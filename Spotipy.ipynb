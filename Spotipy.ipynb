{
 "cells": [
  {
   "cell_type": "markdown",
   "metadata": {},
   "source": [
    "#  Set up Spotify API"
   ]
  },
  {
   "cell_type": "markdown",
   "metadata": {},
   "source": [
    "##  Install Spotipy"
   ]
  },
  {
   "cell_type": "code",
   "execution_count": 1,
   "metadata": {
    "colab": {
     "base_uri": "https://localhost:8080/",
     "height": 187
    },
    "colab_type": "code",
    "id": "-JXP5S6dlT5M",
    "outputId": "63bc22d5-b7ce-40eb-8d8c-f41451a6e654",
    "scrolled": true
   },
   "outputs": [
    {
     "name": "stdout",
     "output_type": "stream",
     "text": [
      "Requirement already satisfied: spotipy in c:\\users\\barry\\anaconda3\\envs\\bci\\lib\\site-packages (2.14.0)\n",
      "Requirement already satisfied: requests>=2.20.0 in c:\\users\\barry\\anaconda3\\envs\\bci\\lib\\site-packages (from spotipy) (2.24.0)\n",
      "Requirement already satisfied: six>=1.10.0 in c:\\users\\barry\\anaconda3\\envs\\bci\\lib\\site-packages (from spotipy) (1.15.0)\n",
      "Requirement already satisfied: certifi>=2017.4.17 in c:\\users\\barry\\anaconda3\\envs\\bci\\lib\\site-packages (from requests>=2.20.0->spotipy) (2020.4.5.2)\n",
      "Requirement already satisfied: idna<3,>=2.5 in c:\\users\\barry\\anaconda3\\envs\\bci\\lib\\site-packages (from requests>=2.20.0->spotipy) (2.10)\n",
      "Requirement already satisfied: urllib3!=1.25.0,!=1.25.1,<1.26,>=1.21.1 in c:\\users\\barry\\anaconda3\\envs\\bci\\lib\\site-packages (from requests>=2.20.0->spotipy) (1.25.10)\n",
      "Requirement already satisfied: chardet<4,>=3.0.2 in c:\\users\\barry\\anaconda3\\envs\\bci\\lib\\site-packages (from requests>=2.20.0->spotipy) (3.0.4)\n",
      "Note: you may need to restart the kernel to use updated packages.\n"
     ]
    }
   ],
   "source": [
    "pip install spotipy"
   ]
  },
  {
   "cell_type": "code",
   "execution_count": 2,
   "metadata": {},
   "outputs": [],
   "source": [
    "# Import the libraries\n",
    "import os\n",
    "import pandas as pd\n",
    "import numpy as np\n",
    "import json\n",
    "import matplotlib.pyplot as plt\n",
    "import spotipy\n",
    "import spotipy.util as util\n",
    "import statistics \n",
    "\n",
    "from spotipy.oauth2 import SpotifyClientCredentials"
   ]
  },
  {
   "cell_type": "code",
   "execution_count": 4,
   "metadata": {
    "colab": {},
    "colab_type": "code",
    "id": "tQf4yn76CpUT"
   },
   "outputs": [],
   "source": [
    "#For TESTING only\n",
    "\n",
    "#Low val will be 0 and high will be 1\n",
    "# based on input, then we return true\n",
    "#create dummy results for testing\n",
    "#predicted_valance = np.array([1,1,1,1,1,1,1,1,1,1,1,0,1,0,1,1,1,1,1,1,1,1,0,1,1,1,1,1,1,1,0,1,0,1,0])\n",
    "#predicted_arousal = np.array([0,0,0,0,0,0,0,1,1,1,1,1,1,1,1,1,1,1,1,1,1,1,1,1,1,0,1,1,1,1,1,1,1,1,1])\n",
    "#because all of the playlists so far on the right hand side of the arousal-valence emotion space model in order to be added, mode of valence should be above a certain threshold set bel\n",
    "\n"
   ]
  },
  {
   "cell_type": "markdown",
   "metadata": {},
   "source": [
    "## Get Spotify authorisation"
   ]
  },
  {
   "cell_type": "code",
   "execution_count": 5,
   "metadata": {},
   "outputs": [
    {
     "name": "stdout",
     "output_type": "stream",
     "text": [
      "Token accepted for 21rxgfl6ldq7foech3qwegbaq\n"
     ]
    }
   ],
   "source": [
    "#set credentials\n",
    "username = '21rxgfl6ldq7foech3qwegbaq'\n",
    "scope = 'playlist-modify-public'\n",
    "playlist_id = '2F2vSGtzgaufo97Z8brvr6'\n",
    "\n",
    "energy_playlist_id = '3ys0dbKZUn9NXwGImwPG49'\n",
    "focus_playlist_id = '5KRLJPXQqvXzdZrlJkhwuA'\n",
    "relax_playlist_id = '6wyaI63Xl8DaP0w2kg9OX3'\n",
    "\n",
    "\n",
    "track_id = ['74mG2xIxEUJwHckS0Co6jF']\n",
    "#[6b2oQwSGFkzsMtQruIWm2p]\n",
    "\n",
    "\n",
    "# credentials received from spotify development account\n",
    "token = util.prompt_for_user_token(username, scope,\n",
    "    client_id='704bb68f31ff4d3f99c783d993c847c9',\n",
    "    client_secret='fc8bd533136b4c17b0db7020a022bcd2',\n",
    "    redirect_uri='http://localhost:7777/callback')\n",
    "\n",
    "#verify Oauth and toekn is valid\n",
    "if token:\n",
    "    sp = spotipy.Spotify(auth=token)\n",
    "    sp.trace = False\n",
    "    print(\"Token accepted for\", username)\n",
    "else:\n",
    "    print(\"Can't get token for\", username)\n",
    "\n",
    "\n"
   ]
  },
  {
   "cell_type": "markdown",
   "metadata": {},
   "source": [
    "Different outputs of above predictions are:\n",
    "\n",
    "binary arrays = [1,1,0,1,0.....]\n",
    "tertiary arrays = [1,2,2,1,0.....]\n",
    "continous arrays = [3.4,4.5,2.1,8.6....]\n",
    "\n",
    "Lets make test ones below:"
   ]
  },
  {
   "cell_type": "code",
   "execution_count": 6,
   "metadata": {},
   "outputs": [],
   "source": [
    "#binary\n",
    "predicted_bin_valance = np.array([1,1,1,1,1,1,1,1,1,1,1,0,1,0,1,1,1,1,1,1,1,1,0,1,1,1,1,1,1,1,0,1,0,1,0])\n",
    "predicted_bin_arousal = np.array([0,0,0,0,0,0,0,1,1,1,1,1,1,1,1,1,1,1,1,1,1,1,1,1,1,0,1,1,1,1,1,1,1,1,1])\n",
    "\n",
    "#tertiary\n",
    "predicted_ter_valance = np.array([1,2,2,2,2,2,2,2,2,2,2,2,2,2,2,2,2,2,2,2,1,1,0,1,0,1,1,1,1,1,0,1,0,1,0])\n",
    "predicted_ter_arousal = np.array([0,0,2,2,2,2,2,1,1,1,1,1,1,1,1,1,2,2,2,2,2,2,2,2,1,0,1,1,1,1,1,1,1,1,1])\n",
    "\n",
    "#continous\n",
    "predicted_con_valance = np.array([8.4,5.2,6.4,4.4,6.7,7.3,8.6,2.3,4.4])\n",
    "predicted_con_arousal = np.array([4.4,6.7,2.4,3.3,2.1,5.6,2.2,1.2,1.1])"
   ]
  },
  {
   "cell_type": "markdown",
   "metadata": {
    "colab_type": "text",
    "id": "u4BHSgXRHDBg"
   },
   "source": [
    "### Calculate the mean and mode from prediction"
   ]
  },
  {
   "cell_type": "code",
   "execution_count": 10,
   "metadata": {
    "colab": {
     "base_uri": "https://localhost:8080/",
     "height": 231
    },
    "colab_type": "code",
    "id": "-WEr5qMgHT4s",
    "outputId": "d496979c-595f-461d-f57d-145a93a0d53f"
   },
   "outputs": [],
   "source": [
    "#calculate binary means + modes\n",
    "ars_bin_mode = (statistics.mode(predicted_bin_arousal))\n",
    "val_bin_mode = (statistics.mode(predicted_bin_valance))\n",
    "\n",
    "ars_bin_mean =  predicted_bin_arousal.mean()\n",
    "val_bin_mean =  predicted_bin_valance.mean()\n",
    "\n",
    "\n",
    "\n",
    "#calculate tertiary means + modes\n",
    "ars_ter_mode = (statistics.mode(predicted_ter_arousal))\n",
    "val_ter_mode = (statistics.mode(predicted_ter_valance))\n",
    "\n",
    "ars_ter_mean =  predicted_ter_arousal.mean()\n",
    "val_ter_mean =  predicted_ter_valance.mean()\n",
    "\n",
    "\n",
    "#calculate tertiary means\n",
    "\n",
    "ars_con_mean =  predicted_con_arousal.mean()\n",
    "val_con_mean =  predicted_con_valance.mean()\n",
    "\n",
    "val_bin_mode = 1\n",
    "ars_bin_mode = 0\n"
   ]
  },
  {
   "cell_type": "markdown",
   "metadata": {},
   "source": [
    "# Plot results on Valance-Arousal Space"
   ]
  },
  {
   "cell_type": "markdown",
   "metadata": {
    "colab_type": "text",
    "id": "pgEgLKdSh3q0"
   },
   "source": [
    "### Two-dimensional valence-arousal space"
   ]
  },
  {
   "cell_type": "markdown",
   "metadata": {
    "colab_type": "text",
    "id": "ODXtMPz1haCq"
   },
   "source": [
    "![Two-dimensional-valence-arousal-space.png](data:image/png;base64,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)"
   ]
  },
  {
   "cell_type": "markdown",
   "metadata": {
    "colab_type": "text",
    "id": "FEHLppm1SSPB"
   },
   "source": [
    "## Binary Plot on Arousal-Valence emotion space"
   ]
  },
  {
   "cell_type": "markdown",
   "metadata": {
    "colab_type": "text",
    "id": "FEHLppm1SSPB"
   },
   "source": [
    "### Binary Plot on Arousal-Valence emotion space"
   ]
  },
  {
   "cell_type": "code",
   "execution_count": 13,
   "metadata": {
    "colab": {
     "base_uri": "https://localhost:8080/",
     "height": 231
    },
    "colab_type": "code",
    "id": "ukYWhwrfI5a3",
    "outputId": "f07c9315-be09-4cdf-b1e6-41b8c77a326c"
   },
   "outputs": [
    {
     "data": {
      "text/plain": [
       "<matplotlib.lines.Line2D at 0x264a7c164c8>"
      ]
     },
     "execution_count": 13,
     "metadata": {},
     "output_type": "execute_result"
    },
    {
     "data": {
      "image/png": "[encoded data removed]",
      "text/plain": [
       "<Figure size 432x288 with 1 Axes>"
      ]
     },
     "metadata": {
      "needs_background": "light"
     },
     "output_type": "display_data"
    }
   ],
   "source": [
    "plt.plot(val_bin_mode,ars_bin_mode,'ro')\n",
    "plt.xlabel(\"Arousal\")\n",
    "plt.ylabel(\"Valance\")\n",
    "plt.xlim(0, 1)\n",
    "plt.ylim(0, 1)\n",
    "plt.axvline(.5, color='b', label=\"hello\")\n",
    "plt.axhline(.5, color='b')"
   ]
  },
  {
   "cell_type": "markdown",
   "metadata": {
    "colab_type": "text",
    "id": "FEHLppm1SSPB"
   },
   "source": [
    "## Tertiary Plot on Arousal-Valence emotion space"
   ]
  },
  {
   "cell_type": "code",
   "execution_count": 8,
   "metadata": {
    "colab": {
     "base_uri": "https://localhost:8080/",
     "height": 231
    },
    "colab_type": "code",
    "id": "ukYWhwrfI5a3",
    "outputId": "f07c9315-be09-4cdf-b1e6-41b8c77a326c"
   },
   "outputs": [
    {
     "data": {
      "text/plain": [
       "<matplotlib.lines.Line2D at 0x1a79355f908>"
      ]
     },
     "execution_count": 8,
     "metadata": {},
     "output_type": "execute_result"
    },
    {
     "data": {
      "image/png": "[encoded data removed]",
      "text/plain": [
       "<Figure size 432x288 with 1 Axes>"
      ]
     },
     "metadata": {
      "needs_background": "light"
     },
     "output_type": "display_data"
    }
   ],
   "source": [
    "plt.plot(val_ter_mean,ars_ter_mean,'ro')\n",
    "plt.xlabel(\"Arousal\")\n",
    "plt.ylabel(\"Valance\")\n",
    "plt.xlim(0, 2)\n",
    "plt.ylim(0, 2)\n",
    "plt.axvline(1, color='b', label=\"hello\")\n",
    "plt.axhline(1, color='b')"
   ]
  },
  {
   "cell_type": "markdown",
   "metadata": {
    "colab_type": "text",
    "id": "FEHLppm1SSPB"
   },
   "source": [
    "## Continous Plot on Arousal-Valence emotion space"
   ]
  },
  {
   "cell_type": "code",
   "execution_count": 14,
   "metadata": {
    "colab": {
     "base_uri": "https://localhost:8080/",
     "height": 231
    },
    "colab_type": "code",
    "id": "ukYWhwrfI5a3",
    "outputId": "f07c9315-be09-4cdf-b1e6-41b8c77a326c"
   },
   "outputs": [
    {
     "data": {
      "text/plain": [
       "<matplotlib.lines.Line2D at 0x264a7c77dc8>"
      ]
     },
     "execution_count": 14,
     "metadata": {},
     "output_type": "execute_result"
    },
    {
     "data": {
      "image/png": "[encoded data removed]",
      "text/plain": [
       "<Figure size 432x288 with 1 Axes>"
      ]
     },
     "metadata": {
      "needs_background": "light"
     },
     "output_type": "display_data"
    }
   ],
   "source": [
    "plt.plot(val_con_mean,ars_con_mean,'ro')\n",
    "plt.xlabel(\"Valance\")\n",
    "plt.ylabel(\"Arousal\")\n",
    "plt.xlim(1, 9)\n",
    "plt.ylim(1, 9)\n",
    "plt.axvline(5, color='b', label=\"hello\")\n",
    "plt.axhline(5, color='b')"
   ]
  },
  {
   "cell_type": "code",
   "execution_count": 15,
   "metadata": {},
   "outputs": [
    {
     "name": "stdout",
     "output_type": "stream",
     "text": [
      "5.966666666666666 3.2222222222222223\n"
     ]
    }
   ],
   "source": [
    "print(val_con_mean,ars_con_mean)"
   ]
  },
  {
   "cell_type": "markdown",
   "metadata": {},
   "source": [
    "# Spotify Playlist Integration"
   ]
  },
  {
   "cell_type": "markdown",
   "metadata": {
    "colab_type": "text",
    "id": "FEHLppm1SSPB"
   },
   "source": [
    "## Binary Playlist"
   ]
  },
  {
   "cell_type": "markdown",
   "metadata": {
    "colab_type": "text",
    "id": "vhpbH9DyHXwD"
   },
   "source": [
    "\n",
    "Two options exist for both arousal and valance (0,1)\n",
    "\n",
    "Valance:\n",
    "        0 = Negative Valance\n",
    "        1 = Positive Valance\n",
    "        \n",
    "Arousal:\n",
    "        0 = Low Arousal\n",
    "        1 = Positive Arousal\n"
   ]
  },
  {
   "cell_type": "markdown",
   "metadata": {},
   "source": [
    "### Check if song is considered 'Relaxing'\n",
    "\n",
    "ie: Positive-Valence, Low-Arousal"
   ]
  },
  {
   "cell_type": "code",
   "execution_count": 10,
   "metadata": {
    "colab": {
     "base_uri": "https://localhost:8080/",
     "height": 34
    },
    "colab_type": "code",
    "id": "7dn1gHDIhLux",
    "outputId": "9e0d7cc2-9fa2-4099-a4b6-300bfbb1bcad"
   },
   "outputs": [
    {
     "name": "stdout",
     "output_type": "stream",
     "text": [
      "This song was not considered to be relaxing\n"
     ]
    }
   ],
   "source": [
    "#verify positive val, and low ars\n",
    "if val_bin_mode == 1 and ars_bin_mode == 0:\n",
    "    \n",
    "    sp.user_playlist_add_tracks(username, relax_playlist_id, track_id)\n",
    "    print(\"Added to relaxing playlist!\")\n",
    "    \n",
    "else:\n",
    "    \n",
    "  print(\"This song was not considered to be relaxing\")"
   ]
  },
  {
   "cell_type": "markdown",
   "metadata": {
    "colab_type": "text",
    "id": "uS4RH-uemakU"
   },
   "source": [
    "### Check if song is condsidered 'Uplifiting'\n",
    "\n",
    "ie: Positive Valence, High-Arousal\n",
    "\n"
   ]
  },
  {
   "cell_type": "code",
   "execution_count": 11,
   "metadata": {
    "colab": {
     "base_uri": "https://localhost:8080/",
     "height": 34
    },
    "colab_type": "code",
    "id": "H-fLqNepmakV",
    "outputId": "e20593ac-d657-4d72-cda5-1b2d5eba0866"
   },
   "outputs": [
    {
     "name": "stdout",
     "output_type": "stream",
     "text": [
      "Added to uplifitng playlist!\n"
     ]
    }
   ],
   "source": [
    "#verify positive val, and high ars\n",
    "if val_bin_mode == 1 and ars_bin_mode == 1:\n",
    "    sp.user_playlist_add_tracks(username, energy_playlist_id, track_id)\n",
    "    print(\"Added to uplifitng playlist!\")\n",
    "else:\n",
    "  print(\"This song was not considered to be uplifiting\")"
   ]
  },
  {
   "cell_type": "markdown",
   "metadata": {},
   "source": [
    "## Tertiary Playlist\n",
    "\n",
    "Three options exist for both arousal and valance (0,1,2)\n",
    "\n",
    "Valance:\n",
    "        0 = Negative Valance\n",
    "        1 = Netrual Valance\n",
    "        2 = Positive Valance\n",
    "        \n",
    "Arousal:\n",
    "        0 = Low Arousal\n",
    "        1 = Netrual Arousal\n",
    "        2 = Positive Arousal  \n",
    "        \n",
    "      \n",
    "        "
   ]
  },
  {
   "cell_type": "markdown",
   "metadata": {},
   "source": [
    "### Check if song is considered 'Relaxing'\n",
    "\n",
    "ie: Positive-Valence, Low-Arousal\n",
    "ie. val_ter_mode == 2 and ars_ter_mode == 0"
   ]
  },
  {
   "cell_type": "code",
   "execution_count": 12,
   "metadata": {},
   "outputs": [
    {
     "name": "stdout",
     "output_type": "stream",
     "text": [
      "2 1\n"
     ]
    }
   ],
   "source": [
    "print(val_ter_mode,ars_ter_mode)"
   ]
  },
  {
   "cell_type": "code",
   "execution_count": 13,
   "metadata": {},
   "outputs": [
    {
     "name": "stdout",
     "output_type": "stream",
     "text": [
      "This song was not considered to be relaxing\n"
     ]
    }
   ],
   "source": [
    "#verify positive val, and low ars\n",
    "if val_ter_mode == 2 and ars_ter_mode == 0:\n",
    "    \n",
    "    sp.user_playlist_add_tracks(username, relax_playlist_id, track_id)\n",
    "    print(\"Added to relaxing playlist!\")\n",
    "    \n",
    "else:\n",
    "    \n",
    "  print(\"This song was not considered to be relaxing\")"
   ]
  },
  {
   "cell_type": "markdown",
   "metadata": {},
   "source": [
    "### Check if song is considered fits 'Focus'\n",
    "\n",
    "ie: Positive-Valence, Neutral-Arousal\n",
    "ie. val_ter_mode == 2 and ars_ter_mode == 1"
   ]
  },
  {
   "cell_type": "code",
   "execution_count": 14,
   "metadata": {},
   "outputs": [
    {
     "name": "stdout",
     "output_type": "stream",
     "text": [
      "Added to focus playlist!\n"
     ]
    }
   ],
   "source": [
    "#verify positive val, and med ars\n",
    "if val_ter_mode == 2 and ars_ter_mode == 1:\n",
    "    \n",
    "    sp.user_playlist_add_tracks(username, focus_playlist_id, track_id)\n",
    "    print(\"Added to focus playlist!\")\n",
    "    \n",
    "else:\n",
    "    \n",
    "  print(\"This song was not considered to be focusing appropriate\")"
   ]
  },
  {
   "cell_type": "markdown",
   "metadata": {},
   "source": [
    "### Check if song is considered fits 'Uplifting'\n",
    "\n",
    "ie: Positive-Valence, High-Arousal\n",
    "ie. val_ter_mode == 2 and ars_ter_mode == 2"
   ]
  },
  {
   "cell_type": "code",
   "execution_count": 15,
   "metadata": {},
   "outputs": [
    {
     "name": "stdout",
     "output_type": "stream",
     "text": [
      "This song was not considered to be uplifting\n"
     ]
    }
   ],
   "source": [
    "#verify positive val, and high ars\n",
    "if val_ter_mode == 2 and ars_ter_mode == 2:\n",
    "    \n",
    "    sp.user_playlist_add_tracks(username, energy_playlist_id, track_id)\n",
    "    print(\"Added to uplifting playlist!\")\n",
    "    \n",
    "else:\n",
    "    \n",
    "  print(\"This song was not considered to be uplifting\")"
   ]
  },
  {
   "cell_type": "markdown",
   "metadata": {},
   "source": [
    "## Continous Playlist\n",
    "\n",
    "Unlimited options exist for both arousal and valance (float between 1-9) where 9 is highest "
   ]
  },
  {
   "cell_type": "code",
   "execution_count": 16,
   "metadata": {},
   "outputs": [],
   "source": [
    "#set continous label thresholds:\n",
    "#low = less than 4 \n",
    "#netural = 4 - 6\n",
    "#high = more than 6\n",
    "low = 4\n",
    "\n",
    "high = 6\n",
    "\n",
    "pos = 5\n"
   ]
  },
  {
   "cell_type": "markdown",
   "metadata": {},
   "source": [
    "### Check if song is considered 'Relaxing'\n",
    "\n",
    "ie: Positive-Valence, Low-Arousal\n",
    "ie. val_con_mean >= 4.5 and ars_con_mean < 4.5"
   ]
  },
  {
   "cell_type": "code",
   "execution_count": 17,
   "metadata": {},
   "outputs": [
    {
     "name": "stdout",
     "output_type": "stream",
     "text": [
      "Added to relaxing playlist!\n"
     ]
    }
   ],
   "source": [
    "#verify positive val, and low ars\n",
    "if val_con_mean >= pos and ars_con_mean < pos:\n",
    "    \n",
    "    sp.user_playlist_add_tracks(username, relax_playlist_id, track_id)\n",
    "    print(\"Added to relaxing playlist!\")\n",
    "    \n",
    "else:\n",
    "    \n",
    "  print(\"This song was not considered to be relaxing\")"
   ]
  },
  {
   "cell_type": "markdown",
   "metadata": {
    "colab": {},
    "colab_type": "code",
    "id": "rPZXhofhmWYW"
   },
   "source": [
    "### Check if song fits 'Focus'\n",
    "\n",
    "ie: Positive-Valence, Neutral-Arousal\n",
    "ie. val_con_mean >= 5 and (ars_con_mean < 6.5 and ars_con_mean > 4.5)"
   ]
  },
  {
   "cell_type": "code",
   "execution_count": 18,
   "metadata": {},
   "outputs": [
    {
     "name": "stdout",
     "output_type": "stream",
     "text": [
      "This song was not considered to be focusing appropriate\n"
     ]
    }
   ],
   "source": [
    "#verify positive val, and neutral ars\n",
    "if val_con_mean >= pos and ars_con_mean < high and ars_con_mean > low:\n",
    "    \n",
    "    sp.user_playlist_add_tracks(username, focus_playlist_id, track_id)\n",
    "    print(\"Added to focus playlist!\")\n",
    "    \n",
    "else:\n",
    "    \n",
    "  print(\"This song was not considered to be focusing appropriate\")"
   ]
  },
  {
   "cell_type": "markdown",
   "metadata": {},
   "source": [
    "### Check if song is considered 'Uplifting'\n",
    "\n",
    "ie: Positive-Valence, High-Arousal\n",
    "ie. if val_con_mean >= 5 and ars_con_mean >= 5:"
   ]
  },
  {
   "cell_type": "code",
   "execution_count": 19,
   "metadata": {},
   "outputs": [
    {
     "name": "stdout",
     "output_type": "stream",
     "text": [
      "This song was not considered to be uplifting\n"
     ]
    }
   ],
   "source": [
    "#verify positive val, and high ars\n",
    "if val_con_mean >= pos and ars_con_mean >= pos:\n",
    "    \n",
    "    sp.user_playlist_add_tracks(username, energy_playlist_id, track_id)\n",
    "    print(\"Added to uplifting playlist!\")\n",
    "    \n",
    "else:\n",
    "    \n",
    "  print(\"This song was not considered to be uplifting\")"
   ]
  }
 ],
 "metadata": {
  "accelerator": "GPU",
  "colab": {
   "collapsed_sections": [],
   "name": "Copy of Copy of Spotify.ipynb",
   "provenance": [],
   "toc_visible": true
  },
  "kernelspec": {
   "display_name": "Python 3",
   "language": "python",
   "name": "python3"
  },
  "language_info": {
   "codemirror_mode": {
    "name": "ipython",
    "version": 3
   },
   "file_extension": ".py",
   "mimetype": "text/x-python",
   "name": "python",
   "nbconvert_exporter": "python",
   "pygments_lexer": "ipython3",
   "version": "3.7.7"
  }
 },
 "nbformat": 4,
 "nbformat_minor": 1
}
