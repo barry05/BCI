{
  "nbformat": 4,
  "nbformat_minor": 0,
  "metadata": {
    "colab": {
      "name": "Arousal-Valence Classification.ipynb",
      "provenance": [],
      "collapsed_sections": [],
      "include_colab_link": true
    },
    "kernelspec": {
      "name": "python3",
      "display_name": "Python 3"
    },
    "accelerator": "GPU"
  },
  "cells": [
    {
      "cell_type": "markdown",
      "metadata": {
        "id": "view-in-github",
        "colab_type": "text"
      },
      "source": [
        "<a href=\"https://colab.research.google.com/github/barry05/BCI/blob/master/Arousal_Valence_Classification.ipynb\" target=\"_parent\"><img src=\"https://colab.research.google.com/assets/colab-badge.svg\" alt=\"Open In Colab\"/></a>"
      ]
    },
    {
      "cell_type": "markdown",
      "metadata": {
        "id": "e4t1lXpLNZZU",
        "colab_type": "text"
      },
      "source": [
        ""
      ]
    },
    {
      "cell_type": "markdown",
      "metadata": {
        "id": "pQfB0Fv6lv4G",
        "colab_type": "text"
      },
      "source": [
        "1. INSTALL NEEDED LIBRARIES (pyeeg)"
      ]
    },
    {
      "cell_type": "code",
      "metadata": {
        "id": "QVkjoVU_uDK3",
        "colab_type": "code",
        "colab": {
          "base_uri": "https://localhost:8080/",
          "height": 222
        },
        "outputId": "472429b3-97da-466f-c7b6-a592501e3405"
      },
      "source": [
        "pip install git+https://github.com/forrestbao/pyeeg.git"
      ],
      "execution_count": null,
      "outputs": [
        {
          "output_type": "stream",
          "text": [
            "Collecting git+https://github.com/forrestbao/pyeeg.git\n",
            "  Cloning https://github.com/forrestbao/pyeeg.git to /tmp/pip-req-build-bfl9t63b\n",
            "  Running command git clone -q https://github.com/forrestbao/pyeeg.git /tmp/pip-req-build-bfl9t63b\n",
            "Requirement already satisfied: numpy>=1.9.2 in /usr/local/lib/python3.6/dist-packages (from pyeeg==0.4.4) (1.18.5)\n",
            "Building wheels for collected packages: pyeeg\n",
            "  Building wheel for pyeeg (setup.py) ... \u001b[?25l\u001b[?25hdone\n",
            "  Created wheel for pyeeg: filename=pyeeg-0.4.4-py2.py3-none-any.whl size=28122 sha256=e9394965e3f3d985f5c29887d6df004ad5fec4dc748d980decbaefe66fc42e1f\n",
            "  Stored in directory: /tmp/pip-ephem-wheel-cache-m5nzxx2z/wheels/2d/3f/ad/106d4fc80b61d1ea1fc18e76e7439fd98aa043d83d58eae741\n",
            "Successfully built pyeeg\n",
            "Installing collected packages: pyeeg\n",
            "Successfully installed pyeeg-0.4.4\n"
          ],
          "name": "stdout"
        }
      ]
    },
    {
      "cell_type": "markdown",
      "metadata": {
        "id": "91Asc9Cbl2jB",
        "colab_type": "text"
      },
      "source": [
        "2. IMPORT NEEDED LIBRARIES\n"
      ]
    },
    {
      "cell_type": "code",
      "metadata": {
        "id": "5SPLfnVBY6LY",
        "colab_type": "code",
        "colab": {
          "base_uri": "https://localhost:8080/",
          "height": 70
        },
        "outputId": "701ec755-60a0-4839-cf8e-20dc9143fb8a"
      },
      "source": [
        "import numpy as np\n",
        "\n",
        "import pickle as pickle\n",
        "import pandas as pd\n",
        "import pyeeg as pe\n",
        "import seaborn as sns\n",
        "from pandas.plotting import scatter_matrix\n",
        "import matplotlib.pyplot as plt\n",
        "\n",
        "import math\n",
        "\n",
        "from sklearn import svm\n",
        "from sklearn.preprocessing import normalize\n",
        "from sklearn.ensemble import RandomForestRegressor\n",
        "from sklearn.ensemble import AdaBoostRegressor\n",
        "\n",
        "import os\n",
        "#import tensorflow as tf\n",
        "import time\n",
        "from numpy import load\n",
        "\n",
        "from sklearn.metrics import accuracy_score\n",
        "from sklearn.preprocessing import normalize\n",
        "from sklearn.model_selection import train_test_split\n",
        "from sklearn.preprocessing import StandardScaler\n",
        "from sklearn.svm import SVC\n",
        "from sklearn.metrics import confusion_matrix\n",
        "from sklearn.decomposition import PCA\n",
        "from sklearn.neighbors import KNeighborsClassifier\n",
        "\n",
        "from sklearn.metrics import classification_report\n",
        "from sklearn.metrics import explained_variance_score\n",
        "from sklearn.metrics import mean_absolute_error\n",
        "from sklearn.metrics import mean_squared_error\n",
        "from sklearn.metrics import mean_squared_log_error\n",
        "from sklearn.metrics import r2_score"
      ],
      "execution_count": null,
      "outputs": [
        {
          "output_type": "stream",
          "text": [
            "/usr/local/lib/python3.6/dist-packages/statsmodels/tools/_testing.py:19: FutureWarning: pandas.util.testing is deprecated. Use the functions in the public API at pandas.testing instead.\n",
            "  import pandas.util.testing as tm\n"
          ],
          "name": "stderr"
        }
      ]
    },
    {
      "cell_type": "markdown",
      "metadata": {
        "id": "dERMllYFl8uA",
        "colab_type": "text"
      },
      "source": [
        "3. MOUNT GOOGLE DRIVE (to access the DEAP Dataset)"
      ]
    },
    {
      "cell_type": "code",
      "metadata": {
        "id": "wgSd0gfUvMNK",
        "colab_type": "code",
        "colab": {
          "base_uri": "https://localhost:8080/",
          "height": 121
        },
        "outputId": "97073e2a-6763-4e7b-bdf6-b64c945cc54f"
      },
      "source": [
        "from google.colab import drive\n",
        "drive.mount('/content/drive')"
      ],
      "execution_count": null,
      "outputs": [
        {
          "output_type": "stream",
          "text": [
            "Go to this URL in a browser: https://accounts.google.com/o/oauth2/auth?client_id=947318989803-6bn6qk8qdgf4n4g3pfee6491hc0brc4i.apps.googleusercontent.com&redirect_uri=urn%3aietf%3awg%3aoauth%3a2.0%3aoob&scope=email%20https%3a%2f%2fwww.googleapis.com%2fauth%2fdocs.test%20https%3a%2f%2fwww.googleapis.com%2fauth%2fdrive%20https%3a%2f%2fwww.googleapis.com%2fauth%2fdrive.photos.readonly%20https%3a%2f%2fwww.googleapis.com%2fauth%2fpeopleapi.readonly&response_type=code\n",
            "\n",
            "Enter your authorization code:\n",
            "··········\n",
            "Mounted at /content/drive\n"
          ],
          "name": "stdout"
        }
      ]
    },
    {
      "cell_type": "markdown",
      "metadata": {
        "id": "XPPt72ilmwlx",
        "colab_type": "text"
      },
      "source": [
        "4. SET STATIC VARIABLES (channels, bands, sample rate, subjectList, etc.)"
      ]
    },
    {
      "cell_type": "code",
      "metadata": {
        "id": "iq8EcwGxsgw4",
        "colab_type": "code",
        "colab": {}
      },
      "source": [
        "channel = [1,2,3,4,6,11,13,17,19,20,21,25,29,31] #14 Channels chosen to fit Emotiv Epoch+\n",
        "band = [4,8,12,16,25,45] #5 bands\n",
        "window_size = 256 #Averaging band power of 2 sec\n",
        "step_size = 16 #Each 0.125 sec update once\n",
        "sample_rate = 128 #Sampling rate of 128 Hz\n",
        "subjectList = ['01']\n",
        "#subjectList = ['01','02','03','04','05','06','07','08','09','10','11','12','13','14','15','16']\n",
        "#List of subjects, use full 32 if computing power allows"
      ],
      "execution_count": null,
      "outputs": []
    },
    {
      "cell_type": "markdown",
      "metadata": {
        "id": "MkNFikI8nF76",
        "colab_type": "text"
      },
      "source": [
        "5. DEFINE THE FUNCTION FOR THE FFT PREPROCESSING OF THE DATA"
      ]
    },
    {
      "cell_type": "code",
      "metadata": {
        "id": "BMHsERGylAEu",
        "colab_type": "code",
        "colab": {}
      },
      "source": [
        "def FFT_Processing (sub, channel, band, window_size, step_size, sample_rate):\n",
        "    '''\n",
        "    arguments:  string subject\n",
        "                list channel indice\n",
        "                list band\n",
        "                int window size for FFT\n",
        "                int step size for FFT\n",
        "                int sample rate for FFT\n",
        "    return:     void\n",
        "    '''\n",
        "    meta = []\n",
        "    with open('/content/drive/My Drive/BCI/ABCI/data_preprocessed_python/s' + sub + '.dat', 'rb') as file:\n",
        "\n",
        "        subject = pickle.load(file, encoding='latin1') #resolve the python 2 data problem by encoding : latin1\n",
        "\n",
        "        for i in range (0,39):\n",
        "            # loop over 0-39 trails\n",
        "            data = subject[\"data\"][i]\n",
        "            labels = subject[\"labels\"][i]\n",
        "            start = 0;\n",
        "\n",
        "            while start + window_size < data.shape[1]:\n",
        "                meta_array = []\n",
        "                meta_data = [] #meta vector for analysis\n",
        "                for j in channel:\n",
        "                    X = data[j][start : start + window_size] #Slice raw data over 2 sec, at interval of 0.125 sec, creating 2sec epoch?\n",
        "                    Y = pe.bin_power(X, band, sample_rate) #FFT over 2 sec of channel j, in seq of theta, alpha, low beta, high beta, gamma\n",
        "                    meta_data = meta_data + list(Y[0])\n",
        "\n",
        "                meta_array.append(np.array(meta_data))\n",
        "                meta_array.append(labels)\n",
        "\n",
        "                meta.append(np.array(meta_array))    \n",
        "                start = start + step_size\n",
        "                \n",
        "        meta = np.array(meta)\n",
        "        np.save('/content/drive/My Drive/BCI/ABCI/data_sampled_at_70/s' + sub, meta, allow_pickle=True, fix_imports=True)\n",
        "\n"
      ],
      "execution_count": null,
      "outputs": []
    },
    {
      "cell_type": "markdown",
      "metadata": {
        "id": "7q7fidpwnIM7",
        "colab_type": "text"
      },
      "source": [
        "6. DEFINE THE FUNCTION FOR COMPUTING THE ACCURACY OF THE REGRESSION MODELS\n"
      ]
    },
    {
      "cell_type": "code",
      "metadata": {
        "id": "UCLAVR4uwnD7",
        "colab_type": "code",
        "colab": {}
      },
      "source": [
        "def testing (M, L, model):\n",
        "    '''\n",
        "    arguments:  M: testing dataset\n",
        "                L: testing dataset label\n",
        "                model: scikit-learn model\n",
        "\n",
        "    return:     void\n",
        "    '''\n",
        "    output = model.predict(M[0:78080:32])\n",
        "    label = L[0:78080:32]\n",
        "\n",
        "    k = 0\n",
        "    l = 0\n",
        "\n",
        "    for i in range(len(label)):\n",
        "        k = k + (output[i] - label[i])*(output[i] - label[i]) #square difference \n",
        "\n",
        "        #a good guess\n",
        "        if (output[i] > 5 and label[i] > 5):\n",
        "            l = l + 1\n",
        "        elif (output[i] < 5 and label[i] <5):\n",
        "            l = l + 1\n",
        "\n",
        "    print (\"l2 error:\", k/len(label), \"classification accuracy:\", l / len(label),l, len(label))"
      ],
      "execution_count": null,
      "outputs": []
    },
    {
      "cell_type": "markdown",
      "metadata": {
        "id": "-YzDPJRgvQhP",
        "colab_type": "text"
      },
      "source": [
        "7. CREATE EEG DATA FILE AND LABEL FILE FROM ONLY 1 PARTICIPANT\n"
      ]
    },
    {
      "cell_type": "code",
      "metadata": {
        "id": "zdWD6FMKvWrx",
        "colab_type": "code",
        "colab": {}
      },
      "source": [
        "data_one= []\n",
        "label_one = []\n",
        "for subjects in subjectList:\n",
        "  \n",
        "\n",
        "    with open('/content/drive/My Drive/BCI/ABCI/s' + subjects + '.npy', 'rb') as file:\n",
        "        sub = np.load(file,allow_pickle=True)\n",
        "        for i in range (0,sub.shape[0]):\n",
        "          data_one.append(sub[i][0])\n",
        "          label_one.append(sub[i][1])\n",
        "np.save('data_one', np.array(data_one), allow_pickle=True, fix_imports=True)\n",
        "np.save('label_one', np.array(label_one), allow_pickle=True, fix_imports=True)"
      ],
      "execution_count": null,
      "outputs": []
    },
    {
      "cell_type": "code",
      "metadata": {
        "id": "B95a_FncwGYw",
        "colab_type": "code",
        "colab": {}
      },
      "source": [
        "df=pd.DataFrame(data=data_one)\n",
        "df.to_csv(\"data_one.csv\",index=False)\n",
        "\n",
        "df1=pd.DataFrame(data=label_one)\n",
        "df1.to_csv(\"label_one.csv\",index=False)\n",
        "\n",
        "\n",
        "datas_one=pd.read_csv(\"/content/data_one.csv\")\n",
        "#data1\n",
        "\n",
        "labels_one=pd.read_csv(\"/content/label_one.csv\")\n",
        "#label1"
      ],
      "execution_count": null,
      "outputs": []
    },
    {
      "cell_type": "code",
      "metadata": {
        "id": "xyC3KdNy2raY",
        "colab_type": "code",
        "colab": {
          "base_uri": "https://localhost:8080/",
          "height": 50
        },
        "outputId": "b747c820-8b4e-4bf4-bd68-5309e4a61224"
      },
      "source": [
        "print(datas_one.shape)\n",
        "#print(datas_one)\n",
        "print(labels_one.shape)\n",
        "#print(labels_one)"
      ],
      "execution_count": null,
      "outputs": [
        {
          "output_type": "stream",
          "text": [
            "(19032, 70)\n",
            "(19032, 4)\n"
          ],
          "name": "stdout"
        }
      ]
    },
    {
      "cell_type": "markdown",
      "metadata": {
        "id": "UDkCN2Yqv-Zo",
        "colab_type": "text"
      },
      "source": [
        "8. VISUALIZE THE DATASET"
      ]
    },
    {
      "cell_type": "code",
      "metadata": {
        "id": "j0w16bdswBvL",
        "colab_type": "code",
        "colab": {}
      },
      "source": [
        " #names = ['valence', 'arousal', 'dominance', 'liking']\n",
        " #eeg_dataset = datas_one.transpose().reindex()"
      ],
      "execution_count": null,
      "outputs": []
    },
    {
      "cell_type": "code",
      "metadata": {
        "id": "yNLcfGXpxBXu",
        "colab_type": "code",
        "colab": {}
      },
      "source": [
        "# Summary of dataset\n",
        "#print('Summary of dataset\\n')\n",
        "# shape\n",
        "#print('1. Shape is:')\n",
        "#print(eeg_dataset.shape)\n",
        "# head\n",
        "#print('\\n2. First 8 rows are as:')\n",
        "#print(eeg_dataset.head(8))\n",
        "# descriptions\n",
        "#print('\\n3. Statistical description:')\n",
        "#print(eeg_dataset.describe())\n",
        "#types = eeg_dataset.dtypes\n",
        "#print('\\n4. Data Types:')\n",
        "#print(types)"
      ],
      "execution_count": null,
      "outputs": []
    },
    {
      "cell_type": "code",
      "metadata": {
        "id": "6L1yZFfOxBg_",
        "colab_type": "code",
        "colab": {}
      },
      "source": [
        "# Data visualisation\n",
        "# box and whisker plots\n",
        "#for i in range(5):\n",
        "#  sns.set_style('whitegrid')\n",
        "#  sns.boxplot(eeg_dataset[i])\n",
        "#  plt.title('Magnitude versus ' + str(i+1) + ' channel')\n",
        "#  plt.show()"
      ],
      "execution_count": null,
      "outputs": []
    },
    {
      "cell_type": "code",
      "metadata": {
        "id": "fhIl3ZVF3qhW",
        "colab_type": "code",
        "colab": {}
      },
      "source": [
        "#for i in range(5):\n",
        "#  sns.distplot(eeg_dataset[i])\n",
        "#  plt.title('Magnitude versus ' + str(i+1) + ' channel')\n",
        "#  plt.show()"
      ],
      "execution_count": null,
      "outputs": []
    },
    {
      "cell_type": "markdown",
      "metadata": {
        "id": "B1bX86rU4Tnx",
        "colab_type": "text"
      },
      "source": [
        "8. DIVIDE LABELS BETWEEN VALENCE, AROUSAL, DOMINANCE, LIKING"
      ]
    },
    {
      "cell_type": "code",
      "metadata": {
        "id": "-oR77Qp_4Zyw",
        "colab_type": "code",
        "colab": {
          "base_uri": "https://localhost:8080/",
          "height": 84
        },
        "outputId": "0714f5c0-d36b-445f-c0ec-e4fefe0d9bea"
      },
      "source": [
        "y_val_one=labels_one.loc[:,'0']\n",
        "y_ars_one=labels_one.loc[:,'1']\n",
        "y_lik_one=labels_one.loc[:,'2']\n",
        "y_dom_one=labels_one.loc[:,'3']\n",
        "\n",
        "print(y_val_one.shape)\n",
        "print(y_ars_one.shape)\n",
        "print(y_lik_one.shape)\n",
        "print(y_dom_one.shape)\n"
      ],
      "execution_count": null,
      "outputs": [
        {
          "output_type": "stream",
          "text": [
            "(19032,)\n",
            "(19032,)\n",
            "(19032,)\n",
            "(19032,)\n"
          ],
          "name": "stdout"
        }
      ]
    },
    {
      "cell_type": "code",
      "metadata": {
        "id": "tlAkqwmhfweh",
        "colab_type": "code",
        "colab": {
          "base_uri": "https://localhost:8080/",
          "height": 218
        },
        "outputId": "9d47f1a3-5f2d-47f1-f0e0-4395ebd20fd8"
      },
      "source": [
        "print(y_val_one)"
      ],
      "execution_count": null,
      "outputs": [
        {
          "output_type": "stream",
          "text": [
            "0        7.71\n",
            "1        7.71\n",
            "2        7.71\n",
            "3        7.71\n",
            "4        7.71\n",
            "         ... \n",
            "19027    3.24\n",
            "19028    3.24\n",
            "19029    3.24\n",
            "19030    3.24\n",
            "19031    3.24\n",
            "Name: 0, Length: 19032, dtype: float64\n"
          ],
          "name": "stdout"
        }
      ]
    },
    {
      "cell_type": "markdown",
      "metadata": {
        "id": "7Ve9ULsy0p9U",
        "colab_type": "text"
      },
      "source": [
        "9. CHANGE LABELS (1-9) TO DISCRETE [(0,1),(0,1,2),(Low,neutral,high)]\n"
      ]
    },
    {
      "cell_type": "markdown",
      "metadata": {
        "id": "O34HifNN1V96",
        "colab_type": "text"
      },
      "source": [
        "9.1 TERTIARY (0, 1, 2)"
      ]
    },
    {
      "cell_type": "code",
      "metadata": {
        "id": "FOTpBiKh0iy4",
        "colab_type": "code",
        "colab": {}
      },
      "source": [
        "#VALENCE tertiary \n",
        "val_conditions  = [ y_val_one <= 3.5, (y_val_one < 5.5) & (y_val_one > 3.5), y_val_one >= 5.5 ]\n",
        "choices     = [0, 1, 2]\n",
        "#choices     = [ \"low\",\"medium\",\"high\"]\n",
        "\n",
        "y_val_ter = np.select(val_conditions, choices, default=np.nan)\n",
        "\n",
        "#AROUSAL tertiary \n",
        "ars_conditions  = [ y_ars_one <= 3.5, (y_ars_one < 5.5) & (y_ars_one > 3.5), y_ars_one >= 5.5 ]\n",
        "\n",
        "y_ars_ter = np.select(ars_conditions, choices, default=np.nan)\n",
        "\n",
        "#LIKING tertiary \n",
        "lik_conditions  = [ y_lik_one <= 3.5, (y_lik_one < 5.5) & (y_lik_one > 3.5), y_lik_one >= 5.5 ]\n",
        "\n",
        "y_lik_ter = np.select(lik_conditions, choices, default=np.nan)\n",
        "\n",
        "#DOMINANCE tertiary \n",
        "dom_conditions  = [ y_dom_one <= 3.5, (y_dom_one < 5.5) & (y_dom_one > 3.5), y_dom_one >= 5.5 ]\n",
        "\n",
        "y_dom_ter = np.select(dom_conditions, choices, default=np.nan)"
      ],
      "execution_count": null,
      "outputs": []
    },
    {
      "cell_type": "markdown",
      "metadata": {
        "id": "GaaA_-w_2-zg",
        "colab_type": "text"
      },
      "source": [
        "9.2 BINARY (0,1)"
      ]
    },
    {
      "cell_type": "code",
      "metadata": {
        "id": "1vmPekHT3kH4",
        "colab_type": "code",
        "colab": {}
      },
      "source": [
        "#VALENCE binary string\n",
        "val_conditions = [y_val_one <= 4.49, y_val_one >= 4.5]\n",
        "choices     = [ 0, 1]\n",
        "\n",
        "y_val_binary = np.select(val_conditions, choices, default=np.nan)\n",
        "\n",
        "#AROUSAL binary string\n",
        "ars_conditions  = [y_ars_one <= 4.49, y_ars_one >= 4.5]\n",
        "\n",
        "y_ars_binary = np.select(ars_conditions, choices, default=np.nan)\n",
        "\n",
        "#LIKING binary  string\n",
        "lik_conditions  = [y_lik_one <= 4.49, y_lik_one >= 4.5]\n",
        "\n",
        "y_lik_binary = np.select(lik_conditions, choices, default=np.nan)\n",
        "\n",
        "#DOMINANCE binary string\n",
        "dom_conditions  = [y_dom_one <= 4.49, y_dom_one >= 4.5]\n",
        "\n",
        "y_dom_binary = np.select(dom_conditions, choices, default=np.nan)"
      ],
      "execution_count": null,
      "outputs": []
    },
    {
      "cell_type": "code",
      "metadata": {
        "id": "8sCKuKDx6EYn",
        "colab_type": "code",
        "colab": {
          "base_uri": "https://localhost:8080/",
          "height": 235
        },
        "outputId": "f3bbd868-717e-42e6-dcc1-989c0eb26de9"
      },
      "source": [
        "print(y_dom_one)\n",
        "print(y_dom_binary)"
      ],
      "execution_count": null,
      "outputs": [
        {
          "output_type": "stream",
          "text": [
            "0        7.83\n",
            "1        7.83\n",
            "2        7.83\n",
            "3        7.83\n",
            "4        7.83\n",
            "         ... \n",
            "19027    6.15\n",
            "19028    6.15\n",
            "19029    6.15\n",
            "19030    6.15\n",
            "19031    6.15\n",
            "Name: 3, Length: 19032, dtype: float64\n",
            "[1. 1. 1. ... 1. 1. 1.]\n"
          ],
          "name": "stdout"
        }
      ]
    },
    {
      "cell_type": "markdown",
      "metadata": {
        "id": "OpY2OPJ-YuR3",
        "colab_type": "text"
      },
      "source": [
        "11. CLASSIFICATION PROBLEMS for Binary [0,1] and Tertiary [0,1,2]\n",
        " * 11.1 SVM\n",
        " * 11.2 SVM + PCA\n",
        " * 11.3 KNN\n",
        " * 11.4 KNN + PCA"
      ]
    },
    {
      "cell_type": "markdown",
      "metadata": {
        "id": "qusKq1Q_ZiR8",
        "colab_type": "text"
      },
      "source": [
        "11.1 SVM"
      ]
    },
    {
      "cell_type": "markdown",
      "metadata": {
        "id": "xLmszZ9vbWia",
        "colab_type": "text"
      },
      "source": [
        "11.1.1 BINARY [0,1]"
      ]
    },
    {
      "cell_type": "markdown",
      "metadata": {
        "id": "XNfohOShZ4S6",
        "colab_type": "text"
      },
      "source": [
        "11.1.1.1 SVM Binary [0,1] **VALENCE**"
      ]
    },
    {
      "cell_type": "code",
      "metadata": {
        "id": "0x7k065Zbiuj",
        "colab_type": "code",
        "colab": {}
      },
      "source": [
        "eeg_train, eeg_test, y_val_binary_train, y_val_binary_test = train_test_split(datas_one, y_val_binary, test_size = 0.2, random_state = 42)"
      ],
      "execution_count": null,
      "outputs": []
    },
    {
      "cell_type": "code",
      "metadata": {
        "id": "7a4DdUbrb1-y",
        "colab_type": "code",
        "colab": {}
      },
      "source": [
        "#Feature Scaling\n",
        "sc = StandardScaler()\n",
        "eeg_train = sc.fit_transform(eeg_train)\n",
        "eeg_test = sc.transform(eeg_test)"
      ],
      "execution_count": null,
      "outputs": []
    },
    {
      "cell_type": "code",
      "metadata": {
        "id": "eIa_rFO7b4xj",
        "colab_type": "code",
        "colab": {
          "base_uri": "https://localhost:8080/",
          "height": 84
        },
        "outputId": "adc5fc44-9ebf-4871-9dd0-c28d08168cc2"
      },
      "source": [
        "#Train SVC Classifier on TERTIARY VALENCE for ONE Subject\n",
        "svc_clf_val_binary = SVC(kernel = 'rbf', random_state = 42)\n",
        "svc_clf_val_binary.fit(eeg_train, y_val_binary_train)"
      ],
      "execution_count": null,
      "outputs": [
        {
          "output_type": "execute_result",
          "data": {
            "text/plain": [
              "SVC(C=1.0, break_ties=False, cache_size=200, class_weight=None, coef0=0.0,\n",
              "    decision_function_shape='ovr', degree=3, gamma='scale', kernel='rbf',\n",
              "    max_iter=-1, probability=False, random_state=42, shrinking=True, tol=0.001,\n",
              "    verbose=False)"
            ]
          },
          "metadata": {
            "tags": []
          },
          "execution_count": 18
        }
      ]
    },
    {
      "cell_type": "code",
      "metadata": {
        "id": "HZjhd-uadc1U",
        "colab_type": "code",
        "colab": {
          "base_uri": "https://localhost:8080/",
          "height": 84
        },
        "outputId": "0f0783a8-3dbc-4260-c987-bed9751acc53"
      },
      "source": [
        "y_predicted_binary_valence_score_SVC = svc_clf_val_binary.predict(eeg_test)\n",
        "cm = confusion_matrix(y_val_binary_test, y_predicted_binary_valence_score_SVC)\n",
        "print(cm)\n",
        "print(\"Accuracy score FOR SUBJECT 1 of Binary VALENCE using SVC: \")\n",
        "print(accuracy_score(y_val_binary_test, y_predicted_binary_valence_score_SVC)*100)"
      ],
      "execution_count": null,
      "outputs": [
        {
          "output_type": "stream",
          "text": [
            "[[1803  159]\n",
            " [ 104 1741]]\n",
            "Accuracy score FOR SUBJECT 1 of Binary VALENCE using SVC: \n",
            "93.0916732335172\n"
          ],
          "name": "stdout"
        }
      ]
    },
    {
      "cell_type": "code",
      "metadata": {
        "id": "Bhw8W1kBj0Pe",
        "colab_type": "code",
        "colab": {
          "base_uri": "https://localhost:8080/",
          "height": 168
        },
        "outputId": "8c5f50a1-d499-4ab8-e168-bdad68bba950"
      },
      "source": [
        "target_names = ['class 0', 'class 1']\n",
        "print(classification_report(y_val_binary_test, y_predicted_binary_valence_score_SVC, target_names=target_names))"
      ],
      "execution_count": null,
      "outputs": [
        {
          "output_type": "stream",
          "text": [
            "              precision    recall  f1-score   support\n",
            "\n",
            "     class 0       0.95      0.92      0.93      1962\n",
            "     class 1       0.92      0.94      0.93      1845\n",
            "\n",
            "    accuracy                           0.93      3807\n",
            "   macro avg       0.93      0.93      0.93      3807\n",
            "weighted avg       0.93      0.93      0.93      3807\n",
            "\n"
          ],
          "name": "stdout"
        }
      ]
    },
    {
      "cell_type": "markdown",
      "metadata": {
        "id": "0wjGCI-obScc",
        "colab_type": "text"
      },
      "source": [
        "11.1.1.1 SVM Binary [0,1] **AROUSAL**"
      ]
    },
    {
      "cell_type": "code",
      "metadata": {
        "id": "_1sX5U5UZ-1S",
        "colab_type": "code",
        "colab": {}
      },
      "source": [
        "eeg_train, eeg_test, y_ars_binary_train, y_ars_binary_test = train_test_split(datas_one, y_ars_binary, test_size = 0.2, random_state = 42)"
      ],
      "execution_count": null,
      "outputs": []
    },
    {
      "cell_type": "code",
      "metadata": {
        "id": "Jjf-jsL2eNMx",
        "colab_type": "code",
        "colab": {}
      },
      "source": [
        "#Feature Scaling\n",
        "sc = StandardScaler()\n",
        "eeg_train = sc.fit_transform(eeg_train)\n",
        "eeg_test = sc.transform(eeg_test)"
      ],
      "execution_count": null,
      "outputs": []
    },
    {
      "cell_type": "code",
      "metadata": {
        "id": "2ct9r_UBeNRp",
        "colab_type": "code",
        "colab": {
          "base_uri": "https://localhost:8080/",
          "height": 84
        },
        "outputId": "8e8f144e-1fad-4441-f726-fa4558d4a842"
      },
      "source": [
        "#Train SVC Classifier on BINARY AROUSAL for ONE Subject\n",
        "svc_clf_ars_binary = SVC(kernel = 'rbf', random_state = 42)\n",
        "svc_clf_ars_binary.fit(eeg_train, y_ars_binary_train)"
      ],
      "execution_count": null,
      "outputs": [
        {
          "output_type": "execute_result",
          "data": {
            "text/plain": [
              "SVC(C=1.0, break_ties=False, cache_size=200, class_weight=None, coef0=0.0,\n",
              "    decision_function_shape='ovr', degree=3, gamma='scale', kernel='rbf',\n",
              "    max_iter=-1, probability=False, random_state=42, shrinking=True, tol=0.001,\n",
              "    verbose=False)"
            ]
          },
          "metadata": {
            "tags": []
          },
          "execution_count": 23
        }
      ]
    },
    {
      "cell_type": "code",
      "metadata": {
        "id": "od4CkLuSeNPi",
        "colab_type": "code",
        "colab": {
          "base_uri": "https://localhost:8080/",
          "height": 84
        },
        "outputId": "0b8379b5-19bb-442b-dd7d-ee20993289b7"
      },
      "source": [
        "y_predicted_binary_arousal_score_SVC = svc_clf_ars_binary.predict(eeg_test)\n",
        "cm = confusion_matrix(y_ars_binary_test, y_predicted_binary_arousal_score_SVC)\n",
        "print(cm)\n",
        "print(\"Accuracy score FOR SUBJECT 1 of Binary AROUSAL using SVC: \")\n",
        "print(accuracy_score(y_ars_binary_test, y_predicted_binary_arousal_score_SVC)*100)"
      ],
      "execution_count": null,
      "outputs": [
        {
          "output_type": "stream",
          "text": [
            "[[1373  119]\n",
            " [  66 2249]]\n",
            "Accuracy score FOR SUBJECT 1 of Binary AROUSAL using SVC: \n",
            "95.14053060152351\n"
          ],
          "name": "stdout"
        }
      ]
    },
    {
      "cell_type": "code",
      "metadata": {
        "id": "nNvNMVyVkgm1",
        "colab_type": "code",
        "colab": {
          "base_uri": "https://localhost:8080/",
          "height": 168
        },
        "outputId": "6d4b8357-c838-4197-90c1-253d2dea70dd"
      },
      "source": [
        "target_names = ['class 0', 'class 1']\n",
        "print(classification_report(y_ars_binary_test, y_predicted_binary_arousal_score_SVC, target_names=target_names))"
      ],
      "execution_count": null,
      "outputs": [
        {
          "output_type": "stream",
          "text": [
            "              precision    recall  f1-score   support\n",
            "\n",
            "     class 0       0.95      0.92      0.94      1492\n",
            "     class 1       0.95      0.97      0.96      2315\n",
            "\n",
            "    accuracy                           0.95      3807\n",
            "   macro avg       0.95      0.95      0.95      3807\n",
            "weighted avg       0.95      0.95      0.95      3807\n",
            "\n"
          ],
          "name": "stdout"
        }
      ]
    },
    {
      "cell_type": "markdown",
      "metadata": {
        "id": "JzBlVJ_d8-zL",
        "colab_type": "text"
      },
      "source": [
        "11.1.2 TERTIARY [0,1,2]"
      ]
    },
    {
      "cell_type": "markdown",
      "metadata": {
        "id": "M_Nm77iFfINa",
        "colab_type": "text"
      },
      "source": [
        "11.1.2.1 SVM Tertiary [0,1,2] **VALENCE**"
      ]
    },
    {
      "cell_type": "code",
      "metadata": {
        "id": "_zh4eS4Ifn6Q",
        "colab_type": "code",
        "colab": {}
      },
      "source": [
        "eeg_train, eeg_test, y_val_tertiary_train, y_val_tertiary_test = train_test_split(datas_one, y_val_ter, test_size = 0.2, random_state = 42)"
      ],
      "execution_count": null,
      "outputs": []
    },
    {
      "cell_type": "code",
      "metadata": {
        "id": "j-lh7Xerfc7f",
        "colab_type": "code",
        "colab": {
          "base_uri": "https://localhost:8080/",
          "height": 84
        },
        "outputId": "5076379d-a022-4e2f-e4d1-6be093ee098d"
      },
      "source": [
        "#Train SVC Classifier on TERTIARY VALENCE for ONE Subject\n",
        "svc_clf_val_tertiary = SVC(kernel = 'rbf', random_state = 42)\n",
        "svc_clf_val_tertiary.fit(eeg_train, y_val_tertiary_train)"
      ],
      "execution_count": null,
      "outputs": [
        {
          "output_type": "execute_result",
          "data": {
            "text/plain": [
              "SVC(C=1.0, break_ties=False, cache_size=200, class_weight=None, coef0=0.0,\n",
              "    decision_function_shape='ovr', degree=3, gamma='scale', kernel='rbf',\n",
              "    max_iter=-1, probability=False, random_state=42, shrinking=True, tol=0.001,\n",
              "    verbose=False)"
            ]
          },
          "metadata": {
            "tags": []
          },
          "execution_count": 29
        }
      ]
    },
    {
      "cell_type": "code",
      "metadata": {
        "id": "aANouCp3fgJk",
        "colab_type": "code",
        "colab": {
          "base_uri": "https://localhost:8080/",
          "height": 101
        },
        "outputId": "06e8d59e-b001-4626-fb09-d30f3ef2a2cc"
      },
      "source": [
        "y_predicted_tertiary_valence_score_SVC = svc_clf_val_tertiary.predict(eeg_test)\n",
        "cm = confusion_matrix(y_val_tertiary_test, y_predicted_tertiary_valence_score_SVC)\n",
        "print(cm)\n",
        "print(\"Accuracy score FOR SUBJECT 1 of Tertiary Valence using SVC: \")\n",
        "print(accuracy_score(y_val_tertiary_test, y_predicted_tertiary_valence_score_SVC)*100)"
      ],
      "execution_count": null,
      "outputs": [
        {
          "output_type": "stream",
          "text": [
            "[[1396    1  153]\n",
            " [  62  317  112]\n",
            " [ 182    0 1584]]\n",
            "Accuracy score FOR SUBJECT 1 of Tertiary Valence using SVC: \n",
            "86.60362490149724\n"
          ],
          "name": "stdout"
        }
      ]
    },
    {
      "cell_type": "code",
      "metadata": {
        "id": "Nx07RPMBk0XB",
        "colab_type": "code",
        "colab": {
          "base_uri": "https://localhost:8080/",
          "height": 185
        },
        "outputId": "bd9014cf-da6e-404a-fbaa-67b2b5e3b249"
      },
      "source": [
        "target_names = ['class 0', 'class 1', 'class 2']\n",
        "print(classification_report(y_val_tertiary_test, y_predicted_tertiary_valence_score_SVC, target_names=target_names))"
      ],
      "execution_count": null,
      "outputs": [
        {
          "output_type": "stream",
          "text": [
            "              precision    recall  f1-score   support\n",
            "\n",
            "     class 0       0.85      0.90      0.88      1550\n",
            "     class 1       1.00      0.65      0.78       491\n",
            "     class 2       0.86      0.90      0.88      1766\n",
            "\n",
            "    accuracy                           0.87      3807\n",
            "   macro avg       0.90      0.81      0.85      3807\n",
            "weighted avg       0.87      0.87      0.86      3807\n",
            "\n"
          ],
          "name": "stdout"
        }
      ]
    },
    {
      "cell_type": "markdown",
      "metadata": {
        "id": "x7U0Xs-SfZXO",
        "colab_type": "text"
      },
      "source": [
        "11.1.2.2 SVM Tertiary [0,1,2] **AROUSAL**"
      ]
    },
    {
      "cell_type": "code",
      "metadata": {
        "id": "JyRHPqMlgLhK",
        "colab_type": "code",
        "colab": {}
      },
      "source": [
        "eeg_train, eeg_test, y_ars_tertiary_train, y_ars_tertiary_test = train_test_split(datas_one, y_ars_ter, test_size = 0.2, random_state = 42)"
      ],
      "execution_count": null,
      "outputs": []
    },
    {
      "cell_type": "code",
      "metadata": {
        "id": "xrtpcqMvgLpA",
        "colab_type": "code",
        "colab": {
          "base_uri": "https://localhost:8080/",
          "height": 84
        },
        "outputId": "366d4557-ce7f-4493-8020-84ee207bd2d7"
      },
      "source": [
        "#Train SVC Classifier on TERTIARY AROUSAL for ONE Subject\n",
        "svc_clf_ars_tertiary = SVC(kernel = 'rbf', random_state = 42)\n",
        "svc_clf_ars_tertiary.fit(eeg_train, y_ars_tertiary_train)"
      ],
      "execution_count": null,
      "outputs": [
        {
          "output_type": "execute_result",
          "data": {
            "text/plain": [
              "SVC(C=1.0, break_ties=False, cache_size=200, class_weight=None, coef0=0.0,\n",
              "    decision_function_shape='ovr', degree=3, gamma='scale', kernel='rbf',\n",
              "    max_iter=-1, probability=False, random_state=42, shrinking=True, tol=0.001,\n",
              "    verbose=False)"
            ]
          },
          "metadata": {
            "tags": []
          },
          "execution_count": 35
        }
      ]
    },
    {
      "cell_type": "code",
      "metadata": {
        "id": "L5qPNOnJgLwl",
        "colab_type": "code",
        "colab": {
          "base_uri": "https://localhost:8080/",
          "height": 101
        },
        "outputId": "3a8e69ea-9ab8-4c96-d3c2-77e22cefbb57"
      },
      "source": [
        "y_predicted_tertiary_arousal_score_SVC = svc_clf_ars_tertiary.predict(eeg_test)\n",
        "cm = confusion_matrix(y_ars_tertiary_test, y_predicted_tertiary_arousal_score_SVC)\n",
        "print(cm)\n",
        "print(\"Accuracy score FOR SUBJECT 1 of Tertiary AROUSAL using SVC: \")\n",
        "print(accuracy_score(y_ars_tertiary_test, y_predicted_tertiary_arousal_score_SVC)*100)"
      ],
      "execution_count": null,
      "outputs": [
        {
          "output_type": "stream",
          "text": [
            "[[ 878    9  206]\n",
            " [  32  406   52]\n",
            " [  79   16 2129]]\n",
            "Accuracy score FOR SUBJECT 1 of Tertiary AROUSAL using SVC: \n",
            "89.65064355135277\n"
          ],
          "name": "stdout"
        }
      ]
    },
    {
      "cell_type": "code",
      "metadata": {
        "id": "Tyz4E9xjlMrv",
        "colab_type": "code",
        "colab": {
          "base_uri": "https://localhost:8080/",
          "height": 185
        },
        "outputId": "29310dab-ca0b-49f9-8380-dea654211c85"
      },
      "source": [
        "target_names = ['class 0', 'class 1', 'class 2']\n",
        "print(classification_report(y_ars_tertiary_test, y_predicted_tertiary_arousal_score_SVC, target_names=target_names))"
      ],
      "execution_count": null,
      "outputs": [
        {
          "output_type": "stream",
          "text": [
            "              precision    recall  f1-score   support\n",
            "\n",
            "     class 0       0.89      0.80      0.84      1093\n",
            "     class 1       0.94      0.83      0.88       490\n",
            "     class 2       0.89      0.96      0.92      2224\n",
            "\n",
            "    accuracy                           0.90      3807\n",
            "   macro avg       0.91      0.86      0.88      3807\n",
            "weighted avg       0.90      0.90      0.90      3807\n",
            "\n"
          ],
          "name": "stdout"
        }
      ]
    },
    {
      "cell_type": "markdown",
      "metadata": {
        "id": "COlFlrlHXGl4",
        "colab_type": "text"
      },
      "source": [
        "11.2 KNN"
      ]
    },
    {
      "cell_type": "markdown",
      "metadata": {
        "id": "ILgC0sYmXIop",
        "colab_type": "text"
      },
      "source": [
        "11.2.1 KNN Binary [0,1]"
      ]
    },
    {
      "cell_type": "markdown",
      "metadata": {
        "id": "rL87wzv1XUjc",
        "colab_type": "text"
      },
      "source": [
        "11.2.1 KNN Binary [0,1] **VALENCE**\n"
      ]
    },
    {
      "cell_type": "code",
      "metadata": {
        "id": "qwcqZzyWXlcO",
        "colab_type": "code",
        "colab": {}
      },
      "source": [
        "eeg_train, eeg_test, y_val_binary_train, y_val_binary_test = train_test_split(datas_one, y_val_binary, test_size = 0.2, random_state = 42)"
      ],
      "execution_count": null,
      "outputs": []
    },
    {
      "cell_type": "code",
      "metadata": {
        "id": "YIUeekJoXljF",
        "colab_type": "code",
        "colab": {}
      },
      "source": [
        "#Feature Scaling\n",
        "sc = StandardScaler()\n",
        "eeg_train = sc.fit_transform(eeg_train)\n",
        "eeg_test = sc.transform(eeg_test)"
      ],
      "execution_count": null,
      "outputs": []
    },
    {
      "cell_type": "code",
      "metadata": {
        "id": "2OtDwyhzXllr",
        "colab_type": "code",
        "colab": {
          "base_uri": "https://localhost:8080/",
          "height": 67
        },
        "outputId": "4fee4549-8d96-4ba5-a223-a2977de5bf2d"
      },
      "source": [
        "#Train SVC Classifier on TERTIARY VALENCE for ONE Subject\n",
        "knn_clf_val_binary = KNeighborsClassifier(n_neighbors=1)\n",
        "knn_clf_val_binary.fit(eeg_train, y_val_binary_train)"
      ],
      "execution_count": null,
      "outputs": [
        {
          "output_type": "execute_result",
          "data": {
            "text/plain": [
              "KNeighborsClassifier(algorithm='auto', leaf_size=30, metric='minkowski',\n",
              "                     metric_params=None, n_jobs=None, n_neighbors=1, p=2,\n",
              "                     weights='uniform')"
            ]
          },
          "metadata": {
            "tags": []
          },
          "execution_count": 40
        }
      ]
    },
    {
      "cell_type": "code",
      "metadata": {
        "id": "zwR4aAn9YG2C",
        "colab_type": "code",
        "colab": {
          "base_uri": "https://localhost:8080/",
          "height": 84
        },
        "outputId": "afc2eaf5-d673-4e28-d493-349bf5dd8d8d"
      },
      "source": [
        "y_predicted_binary_valence_score_knn = knn_clf_val_binary.predict(eeg_test)\n",
        "cm = confusion_matrix(y_val_binary_test, y_predicted_binary_valence_score_knn)\n",
        "print(cm)\n",
        "print(\"Accuracy score FOR SUBJECT 1 of Binary VALENCE using KNN: \")\n",
        "print(accuracy_score(y_val_binary_test, y_predicted_binary_valence_score_knn)*100)"
      ],
      "execution_count": null,
      "outputs": [
        {
          "output_type": "stream",
          "text": [
            "[[1961    1]\n",
            " [   1 1844]]\n",
            "Accuracy score FOR SUBJECT 1 of Binary VALENCE using KNN: \n",
            "99.94746519569215\n"
          ],
          "name": "stdout"
        }
      ]
    },
    {
      "cell_type": "code",
      "metadata": {
        "id": "95v0GQL2ldCj",
        "colab_type": "code",
        "colab": {
          "base_uri": "https://localhost:8080/",
          "height": 168
        },
        "outputId": "a94d21c5-7040-496d-c17b-782b61f8eddd"
      },
      "source": [
        "target_names = ['class 0', 'class 1']\n",
        "print(classification_report(y_val_binary_test, y_predicted_binary_valence_score_knn, target_names=target_names))"
      ],
      "execution_count": null,
      "outputs": [
        {
          "output_type": "stream",
          "text": [
            "              precision    recall  f1-score   support\n",
            "\n",
            "     class 0       1.00      1.00      1.00      1962\n",
            "     class 1       1.00      1.00      1.00      1845\n",
            "\n",
            "    accuracy                           1.00      3807\n",
            "   macro avg       1.00      1.00      1.00      3807\n",
            "weighted avg       1.00      1.00      1.00      3807\n",
            "\n"
          ],
          "name": "stdout"
        }
      ]
    },
    {
      "cell_type": "markdown",
      "metadata": {
        "colab_type": "text",
        "id": "BnuSCYnHYqOV"
      },
      "source": [
        "11.2.1 KNN Binary [0,1] **AROUSAL**\n"
      ]
    },
    {
      "cell_type": "code",
      "metadata": {
        "id": "s9_6aUgFYuPA",
        "colab_type": "code",
        "colab": {}
      },
      "source": [
        "eeg_train, eeg_test, y_ars_binary_train, y_ars_binary_test = train_test_split(datas_one, y_ars_binary, test_size = 0.2, random_state = 42)"
      ],
      "execution_count": null,
      "outputs": []
    },
    {
      "cell_type": "code",
      "metadata": {
        "id": "xp5-sSzVY85K",
        "colab_type": "code",
        "colab": {}
      },
      "source": [
        "#Feature Scaling\n",
        "sc = StandardScaler()\n",
        "eeg_train = sc.fit_transform(eeg_train)\n",
        "eeg_test = sc.transform(eeg_test)"
      ],
      "execution_count": null,
      "outputs": []
    },
    {
      "cell_type": "code",
      "metadata": {
        "id": "Xjf0YkFxY-8q",
        "colab_type": "code",
        "colab": {
          "base_uri": "https://localhost:8080/",
          "height": 67
        },
        "outputId": "2130a366-fb9a-4ac2-d564-b27489bd39ca"
      },
      "source": [
        "#Train SVC Classifier on BINARY AROUSAL for ONE Subject\n",
        "knn_clf_ars_binary = KNeighborsClassifier(n_neighbors=1)\n",
        "knn_clf_ars_binary.fit(eeg_train, y_ars_binary_train)"
      ],
      "execution_count": null,
      "outputs": [
        {
          "output_type": "execute_result",
          "data": {
            "text/plain": [
              "KNeighborsClassifier(algorithm='auto', leaf_size=30, metric='minkowski',\n",
              "                     metric_params=None, n_jobs=None, n_neighbors=1, p=2,\n",
              "                     weights='uniform')"
            ]
          },
          "metadata": {
            "tags": []
          },
          "execution_count": 45
        }
      ]
    },
    {
      "cell_type": "code",
      "metadata": {
        "id": "4s35ArGkZLzS",
        "colab_type": "code",
        "colab": {
          "base_uri": "https://localhost:8080/",
          "height": 84
        },
        "outputId": "02edf9b1-427a-4ba9-f471-c6543be0ba1f"
      },
      "source": [
        "y_predicted_binary_arousal_score_knn = knn_clf_ars_binary.predict(eeg_test)\n",
        "cm = confusion_matrix(y_ars_binary_test, y_predicted_binary_arousal_score_knn)\n",
        "print(cm)\n",
        "print(\"Accuracy score FOR SUBJECT 1 of Binary AROUSAL using KNN: \")\n",
        "print(accuracy_score(y_ars_binary_test, y_predicted_binary_arousal_score_knn)*100)"
      ],
      "execution_count": null,
      "outputs": [
        {
          "output_type": "stream",
          "text": [
            "[[1490    2]\n",
            " [   0 2315]]\n",
            "Accuracy score FOR SUBJECT 1 of Binary AROUSAL using KNN: \n",
            "99.94746519569215\n"
          ],
          "name": "stdout"
        }
      ]
    },
    {
      "cell_type": "code",
      "metadata": {
        "id": "vM1SIRValtcH",
        "colab_type": "code",
        "colab": {
          "base_uri": "https://localhost:8080/",
          "height": 168
        },
        "outputId": "306f3b88-421f-412c-e42a-f6fc33bb9db5"
      },
      "source": [
        "target_names = ['class 0', 'class 1']\n",
        "print(classification_report(y_ars_binary_test, y_predicted_binary_arousal_score_knn, target_names=target_names))"
      ],
      "execution_count": null,
      "outputs": [
        {
          "output_type": "stream",
          "text": [
            "              precision    recall  f1-score   support\n",
            "\n",
            "     class 0       1.00      1.00      1.00      1492\n",
            "     class 1       1.00      1.00      1.00      2315\n",
            "\n",
            "    accuracy                           1.00      3807\n",
            "   macro avg       1.00      1.00      1.00      3807\n",
            "weighted avg       1.00      1.00      1.00      3807\n",
            "\n"
          ],
          "name": "stdout"
        }
      ]
    },
    {
      "cell_type": "markdown",
      "metadata": {
        "id": "rIeZtg9faJfB",
        "colab_type": "text"
      },
      "source": [
        "11.2.2 KNN Tertiary [0,1,2]"
      ]
    },
    {
      "cell_type": "markdown",
      "metadata": {
        "id": "8qBupY7ZaSA7",
        "colab_type": "text"
      },
      "source": [
        "11.2.2.1 KNN Tertiary [0,1,2] **VALENCE**"
      ]
    },
    {
      "cell_type": "code",
      "metadata": {
        "id": "scyxU0_wanI8",
        "colab_type": "code",
        "colab": {}
      },
      "source": [
        "eeg_train, eeg_test, y_val_tertiary_train, y_val_tertiary_test = train_test_split(datas_one, y_val_ter, test_size = 0.2, random_state = 42)"
      ],
      "execution_count": null,
      "outputs": []
    },
    {
      "cell_type": "code",
      "metadata": {
        "id": "F7bL_k00gdMx",
        "colab_type": "code",
        "colab": {}
      },
      "source": [
        "#Feature Scaling\n",
        "sc = StandardScaler()\n",
        "eeg_train = sc.fit_transform(eeg_train)\n",
        "eeg_test = sc.transform(eeg_test)"
      ],
      "execution_count": null,
      "outputs": []
    },
    {
      "cell_type": "code",
      "metadata": {
        "id": "BZNjhbtGaqpV",
        "colab_type": "code",
        "colab": {
          "base_uri": "https://localhost:8080/",
          "height": 67
        },
        "outputId": "1bd76c58-9b34-4118-fbe9-5a1a0ad1c191"
      },
      "source": [
        "#Train KNN Classifier on TERTIARY VALENCE for ONE Subject\n",
        "knn_clf_val_tertiary = KNeighborsClassifier(n_neighbors=1)\n",
        "knn_clf_val_tertiary.fit(eeg_train, y_val_tertiary_train)"
      ],
      "execution_count": null,
      "outputs": [
        {
          "output_type": "execute_result",
          "data": {
            "text/plain": [
              "KNeighborsClassifier(algorithm='auto', leaf_size=30, metric='minkowski',\n",
              "                     metric_params=None, n_jobs=None, n_neighbors=1, p=2,\n",
              "                     weights='uniform')"
            ]
          },
          "metadata": {
            "tags": []
          },
          "execution_count": 51
        }
      ]
    },
    {
      "cell_type": "code",
      "metadata": {
        "id": "-nEXnePLa1ug",
        "colab_type": "code",
        "colab": {
          "base_uri": "https://localhost:8080/",
          "height": 101
        },
        "outputId": "b13fddc7-e299-45a2-af28-43ae96fb74e7"
      },
      "source": [
        "y_predicted_tertiary_valence_score_knn = knn_clf_val_tertiary.predict(eeg_test)\n",
        "cm = confusion_matrix(y_val_tertiary_test, y_predicted_tertiary_valence_score_knn)\n",
        "print(cm)\n",
        "print(\"Accuracy score FOR SUBJECT 1 of Tertiary Valence using KNN: \")\n",
        "print(accuracy_score(y_val_tertiary_test, y_predicted_tertiary_valence_score_knn)*100)"
      ],
      "execution_count": null,
      "outputs": [
        {
          "output_type": "stream",
          "text": [
            "[[1549    0    1]\n",
            " [   0  491    0]\n",
            " [   1    0 1765]]\n",
            "Accuracy score FOR SUBJECT 1 of Tertiary Valence using KNN: \n",
            "99.94746519569215\n"
          ],
          "name": "stdout"
        }
      ]
    },
    {
      "cell_type": "code",
      "metadata": {
        "id": "0xbZtlhNmASd",
        "colab_type": "code",
        "colab": {
          "base_uri": "https://localhost:8080/",
          "height": 185
        },
        "outputId": "11391b9b-8684-4e28-834c-70e01f200f2d"
      },
      "source": [
        "target_names = ['class 0', 'class 1', 'class 2']\n",
        "print(classification_report(y_val_tertiary_test, y_predicted_tertiary_valence_score_knn, target_names=target_names))"
      ],
      "execution_count": null,
      "outputs": [
        {
          "output_type": "stream",
          "text": [
            "              precision    recall  f1-score   support\n",
            "\n",
            "     class 0       1.00      1.00      1.00      1550\n",
            "     class 1       1.00      1.00      1.00       491\n",
            "     class 2       1.00      1.00      1.00      1766\n",
            "\n",
            "    accuracy                           1.00      3807\n",
            "   macro avg       1.00      1.00      1.00      3807\n",
            "weighted avg       1.00      1.00      1.00      3807\n",
            "\n"
          ],
          "name": "stdout"
        }
      ]
    },
    {
      "cell_type": "markdown",
      "metadata": {
        "id": "l-d_EgiVboGj",
        "colab_type": "text"
      },
      "source": [
        "11.2.2.1 KNN Tertiary [0,1,2] **AROUSAL**"
      ]
    },
    {
      "cell_type": "code",
      "metadata": {
        "id": "NhfJE77tbjsu",
        "colab_type": "code",
        "colab": {}
      },
      "source": [
        "eeg_train, eeg_test, y_ars_tertiary_train, y_ars_tertiary_test = train_test_split(datas_one, y_ars_ter, test_size = 0.2, random_state = 42)"
      ],
      "execution_count": null,
      "outputs": []
    },
    {
      "cell_type": "code",
      "metadata": {
        "id": "kZ25ejj5gmk5",
        "colab_type": "code",
        "colab": {}
      },
      "source": [
        "#Feature Scaling\n",
        "sc = StandardScaler()\n",
        "eeg_train = sc.fit_transform(eeg_train)\n",
        "eeg_test = sc.transform(eeg_test)"
      ],
      "execution_count": null,
      "outputs": []
    },
    {
      "cell_type": "code",
      "metadata": {
        "id": "ml64G_KLbmqs",
        "colab_type": "code",
        "colab": {
          "base_uri": "https://localhost:8080/",
          "height": 67
        },
        "outputId": "dc9409e8-7ab6-480f-dee9-7e1be753f1dc"
      },
      "source": [
        "#Train KNN Classifier on TERTIARY AROUSAL for ONE Subject\n",
        "knn_clf_ars_tertiary = KNeighborsClassifier(n_neighbors=1)\n",
        "knn_clf_ars_tertiary.fit(eeg_train, y_ars_tertiary_train)"
      ],
      "execution_count": null,
      "outputs": [
        {
          "output_type": "execute_result",
          "data": {
            "text/plain": [
              "KNeighborsClassifier(algorithm='auto', leaf_size=30, metric='minkowski',\n",
              "                     metric_params=None, n_jobs=None, n_neighbors=1, p=2,\n",
              "                     weights='uniform')"
            ]
          },
          "metadata": {
            "tags": []
          },
          "execution_count": 56
        }
      ]
    },
    {
      "cell_type": "code",
      "metadata": {
        "id": "0Q6LHx8rb8-Q",
        "colab_type": "code",
        "colab": {
          "base_uri": "https://localhost:8080/",
          "height": 101
        },
        "outputId": "f4edd3ef-b950-48fd-8458-7a8c98f293df"
      },
      "source": [
        "y_predicted_tertiary_arousal_score_knn = knn_clf_ars_tertiary.predict(eeg_test)\n",
        "cm = confusion_matrix(y_ars_tertiary_test, y_predicted_tertiary_arousal_score_knn)\n",
        "print(cm)\n",
        "print(\"Accuracy score FOR SUBJECT 1 of Tertiary AROUSAL using KNN: \")\n",
        "print(accuracy_score(y_ars_tertiary_test, y_predicted_tertiary_arousal_score_knn)*100)"
      ],
      "execution_count": null,
      "outputs": [
        {
          "output_type": "stream",
          "text": [
            "[[1092    0    1]\n",
            " [   0  489    1]\n",
            " [   0    0 2224]]\n",
            "Accuracy score FOR SUBJECT 1 of Tertiary AROUSAL using KNN: \n",
            "99.94746519569215\n"
          ],
          "name": "stdout"
        }
      ]
    },
    {
      "cell_type": "code",
      "metadata": {
        "id": "Zq81qzd1oN2K",
        "colab_type": "code",
        "colab": {
          "base_uri": "https://localhost:8080/",
          "height": 185
        },
        "outputId": "79e41012-c01d-406b-ed39-30c4c2d54c48"
      },
      "source": [
        "target_names = ['class 0', 'class 1', 'class 2']\n",
        "print(classification_report(y_ars_tertiary_test, y_predicted_tertiary_arousal_score_knn, target_names=target_names))"
      ],
      "execution_count": null,
      "outputs": [
        {
          "output_type": "stream",
          "text": [
            "              precision    recall  f1-score   support\n",
            "\n",
            "     class 0       1.00      1.00      1.00      1093\n",
            "     class 1       1.00      1.00      1.00       490\n",
            "     class 2       1.00      1.00      1.00      2224\n",
            "\n",
            "    accuracy                           1.00      3807\n",
            "   macro avg       1.00      1.00      1.00      3807\n",
            "weighted avg       1.00      1.00      1.00      3807\n",
            "\n"
          ],
          "name": "stdout"
        }
      ]
    },
    {
      "cell_type": "markdown",
      "metadata": {
        "id": "zVBUJOZUdsiL",
        "colab_type": "text"
      },
      "source": [
        "12. REGRESSION PROBLEMS\n",
        "\n",
        "\n",
        "*   12.1 SVR (Support Vector Regression)\n",
        "*   12.2 RANDOM FOREST REGRESSION \n",
        "*   12.3 AdaBoost\n",
        "\n"
      ]
    },
    {
      "cell_type": "markdown",
      "metadata": {
        "id": "XYpPKBfQeKQI",
        "colab_type": "text"
      },
      "source": [
        "12.1 SVR (Support Vector Regression)"
      ]
    },
    {
      "cell_type": "markdown",
      "metadata": {
        "id": "3sfjRLzxeSfF",
        "colab_type": "text"
      },
      "source": [
        "12.1.1 SVR **VALENCE** Ratings [1-9]"
      ]
    },
    {
      "cell_type": "code",
      "metadata": {
        "id": "ilXAFk82gDC_",
        "colab_type": "code",
        "colab": {}
      },
      "source": [
        "eeg_train, eeg_test, y_val_ratings_train, y_val_ratings_test = train_test_split(datas_one, y_val_one, test_size = 0.2, random_state = 42)"
      ],
      "execution_count": null,
      "outputs": []
    },
    {
      "cell_type": "code",
      "metadata": {
        "id": "lhNhHso9hIyR",
        "colab_type": "code",
        "colab": {}
      },
      "source": [
        "#Let's normalize the training and testing eeg and labels\n",
        "eeg_train = normalize(eeg_train)\n",
        "y_val_ratings_train = np.ravel(y_val_ratings_train)\n",
        "#y_ars_train = np.ravel(y_ars_train)\n",
        "#y_lik_train = np.ravel(y_lik_train)\n",
        "#y_dom_train = np.ravel(y_dom_train)\n",
        "#######\n",
        "eeg_test = normalize(eeg_test)\n",
        "y_val_ratings_test = np.ravel(y_val_ratings_test)\n",
        "#y_ars_test = np.ravel(y_ars_test)\n",
        "#y_lik_test = np.ravel(y_lik_test)\n",
        "#y_dom_test = np.ravel(y_dom_test)\n"
      ],
      "execution_count": null,
      "outputs": []
    },
    {
      "cell_type": "code",
      "metadata": {
        "id": "Z_j4d4KhgSwQ",
        "colab_type": "code",
        "colab": {}
      },
      "source": [
        "#Feature Scaling\n",
        "sc = StandardScaler()\n",
        "eeg_train = sc.fit_transform(eeg_train)\n",
        "eeg_test = sc.transform(eeg_test)"
      ],
      "execution_count": null,
      "outputs": []
    },
    {
      "cell_type": "code",
      "metadata": {
        "id": "AlfScdi4g1Zs",
        "colab_type": "code",
        "colab": {
          "base_uri": "https://localhost:8080/",
          "height": 50
        },
        "outputId": "bd60b80d-3739-48f1-9c53-ca06a58430fd"
      },
      "source": [
        "#Train SVR Classifier on VALENCE for ONE Subject\n",
        "svr_clf_val = svm.SVR()\n",
        "svr_clf_val.fit(eeg_train, y_val_ratings_train)"
      ],
      "execution_count": null,
      "outputs": [
        {
          "output_type": "execute_result",
          "data": {
            "text/plain": [
              "SVR(C=1.0, cache_size=200, coef0=0.0, degree=3, epsilon=0.1, gamma='scale',\n",
              "    kernel='rbf', max_iter=-1, shrinking=True, tol=0.001, verbose=False)"
            ]
          },
          "metadata": {
            "tags": []
          },
          "execution_count": 62
        }
      ]
    },
    {
      "cell_type": "code",
      "metadata": {
        "id": "j9l8C0yYiC5O",
        "colab_type": "code",
        "colab": {
          "base_uri": "https://localhost:8080/",
          "height": 118
        },
        "outputId": "44bec1d5-5a34-48c6-e4dd-f670e8a4748e"
      },
      "source": [
        "#Predict VALENCE with the SVR classifier\n",
        "y_predicted_valence_score_svr = svr_clf_val.predict(eeg_test) #M is the X_test, L is the Y_test\n",
        "#print(predicted_valence_score_svr)\n",
        "#Compute Metrics of the SVR classifier for VALENCE\n",
        "#testing (eeg_test, y_val_ratings_test, svr_clf_val)\n",
        "print(\"----------METRICS FOR SUBJECT 1 FOR VALENCE SCORE WITH SVR-----------\")\n",
        "print(\"Explained variance score: \", explained_variance_score(y_val_ratings_test, y_predicted_valence_score_svr))\n",
        "print(\"Mean absolute error: \", mean_absolute_error(y_val_ratings_test, y_predicted_valence_score_svr))\n",
        "print(\"Mean squared error: \", mean_squared_error(y_val_ratings_test, y_predicted_valence_score_svr))\n",
        "print(\"Mean squared logarithmic error: \", mean_squared_log_error(y_val_ratings_test, y_predicted_valence_score_svr))\n",
        "print(\"R2 score: \", r2_score(y_val_ratings_test, y_predicted_valence_score_svr))"
      ],
      "execution_count": null,
      "outputs": [
        {
          "output_type": "stream",
          "text": [
            "----------METRICS FOR SUBJECT 1 FOR VALENCE SCORE WITH SVR-----------\n",
            "Explained variance score:  0.7844663624286095\n",
            "Mean absolute error:  0.826714415613305\n",
            "Mean squared error:  1.3595882128188699\n",
            "Mean squared logarithmic error:  0.04985762432789213\n",
            "R2 score:  0.7842846731051814\n"
          ],
          "name": "stdout"
        }
      ]
    },
    {
      "cell_type": "markdown",
      "metadata": {
        "id": "JjH3Y3xFei9-",
        "colab_type": "text"
      },
      "source": [
        "12.1.2 SVR **AROUSAL** Ratings [1-9]"
      ]
    },
    {
      "cell_type": "code",
      "metadata": {
        "id": "wRF0huK0ytiE",
        "colab_type": "code",
        "colab": {}
      },
      "source": [
        "eeg_train, eeg_test, y_ars_ratings_train, y_ars_ratings_test = train_test_split(datas_one, y_ars_one, test_size = 0.2, random_state = 42)"
      ],
      "execution_count": null,
      "outputs": []
    },
    {
      "cell_type": "code",
      "metadata": {
        "id": "TWYro32Tznwx",
        "colab_type": "code",
        "colab": {}
      },
      "source": [
        "#Let's normalize the training and testing eeg and labels\n",
        "eeg_train = normalize(eeg_train)\n",
        "#y_val_ratings_train = np.ravel(y_val_ratings_train)\n",
        "y_ars_ratings_train = np.ravel(y_ars_ratings_train)\n",
        "#y_lik_train = np.ravel(y_lik_train)\n",
        "#y_dom_train = np.ravel(y_dom_train)\n",
        "#######\n",
        "eeg_test = normalize(eeg_test)\n",
        "#y_val_ratings_test = np.ravel(y_val_ratings_test)\n",
        "y_ars_ratings_test = np.ravel(y_ars_ratings_test)\n",
        "#y_lik_test = np.ravel(y_lik_test)\n",
        "#y_dom_test = np.ravel(y_dom_test)"
      ],
      "execution_count": null,
      "outputs": []
    },
    {
      "cell_type": "code",
      "metadata": {
        "id": "DqfzjXjjz4Qf",
        "colab_type": "code",
        "colab": {}
      },
      "source": [
        "#Feature Scaling\n",
        "sc = StandardScaler()\n",
        "eeg_train = sc.fit_transform(eeg_train)\n",
        "eeg_test = sc.transform(eeg_test)"
      ],
      "execution_count": null,
      "outputs": []
    },
    {
      "cell_type": "code",
      "metadata": {
        "id": "ul_KmkZX0UML",
        "colab_type": "code",
        "colab": {
          "base_uri": "https://localhost:8080/",
          "height": 50
        },
        "outputId": "0f485639-9a21-4d51-8de2-60eb17a91d9e"
      },
      "source": [
        "#Train SVR Classifier on VALENCE for ONE Subject\n",
        "svr_clf_ars = svm.SVR()\n",
        "svr_clf_ars.fit(eeg_train, y_ars_ratings_train)"
      ],
      "execution_count": null,
      "outputs": [
        {
          "output_type": "execute_result",
          "data": {
            "text/plain": [
              "SVR(C=1.0, cache_size=200, coef0=0.0, degree=3, epsilon=0.1, gamma='scale',\n",
              "    kernel='rbf', max_iter=-1, shrinking=True, tol=0.001, verbose=False)"
            ]
          },
          "metadata": {
            "tags": []
          },
          "execution_count": 67
        }
      ]
    },
    {
      "cell_type": "code",
      "metadata": {
        "id": "vUSXA-MH0xOU",
        "colab_type": "code",
        "colab": {
          "base_uri": "https://localhost:8080/",
          "height": 118
        },
        "outputId": "72e4184b-195d-4f8e-b415-165bc3770c90"
      },
      "source": [
        "#Predict AROUSAL with the SVR classifier\n",
        "y_predicted_arousal_score_svr = svr_clf_ars.predict(eeg_test) #M is the X_test, L is the Y_test\n",
        "#print(predicted_valence_score_svr)\n",
        "#Compute Metrics of the SVR classifier for VALENCE\n",
        "#testing (eeg_test, y_val_ratings_test, svr_clf_val)\n",
        "print(\"----------METRICS FOR SUBJECT 1FOR AROUSAL SCORE WITH SVR-----------\")\n",
        "print(\"Explained variance score: \", explained_variance_score(y_ars_ratings_test, y_predicted_arousal_score_svr))\n",
        "print(\"Mean absolute error: \", mean_absolute_error(y_ars_ratings_test, y_predicted_arousal_score_svr))\n",
        "print(\"Mean squared error: \", mean_squared_error(y_ars_ratings_test, y_predicted_arousal_score_svr))\n",
        "print(\"Mean squared logarithmic error: \", mean_squared_log_error(y_ars_ratings_test, y_predicted_arousal_score_svr))\n",
        "print(\"R2 score: \", r2_score(y_ars_ratings_test, y_predicted_arousal_score_svr))"
      ],
      "execution_count": null,
      "outputs": [
        {
          "output_type": "stream",
          "text": [
            "----------METRICS FOR SUBJECT 1FOR AROUSAL SCORE WITH SVR-----------\n",
            "Explained variance score:  0.8126418111902998\n",
            "Mean absolute error:  0.6322885575800817\n",
            "Mean squared error:  0.8841825253278518\n",
            "Mean squared logarithmic error:  0.03178824220346806\n",
            "R2 score:  0.8120868692094585\n"
          ],
          "name": "stdout"
        }
      ]
    },
    {
      "cell_type": "markdown",
      "metadata": {
        "id": "upiI7fJZeoZu",
        "colab_type": "text"
      },
      "source": [
        "12.2 Random Forest Regression"
      ]
    },
    {
      "cell_type": "markdown",
      "metadata": {
        "id": "aO_7UICzeyGv",
        "colab_type": "text"
      },
      "source": [
        "12.2.1 Random Forest **VALENCE** Ratings [1-9]"
      ]
    },
    {
      "cell_type": "code",
      "metadata": {
        "id": "26t_aqxo2hKc",
        "colab_type": "code",
        "colab": {}
      },
      "source": [
        "eeg_train, eeg_test, y_val_ratings_train, y_val_ratings_test = train_test_split(datas_one, y_val_one, test_size = 0.2, random_state = 42)"
      ],
      "execution_count": null,
      "outputs": []
    },
    {
      "cell_type": "code",
      "metadata": {
        "id": "VZ59Try62vfE",
        "colab_type": "code",
        "colab": {}
      },
      "source": [
        "#Let's normalize the training and testing eeg and labels\n",
        "eeg_train = normalize(eeg_train)\n",
        "y_val_ratings_train = np.ravel(y_val_ratings_train)\n",
        "#y_ars_train = np.ravel(y_ars_train)\n",
        "#y_lik_train = np.ravel(y_lik_train)\n",
        "#y_dom_train = np.ravel(y_dom_train)\n",
        "#######\n",
        "eeg_test = normalize(eeg_test)\n",
        "y_val_ratings_test = np.ravel(y_val_ratings_test)\n",
        "#y_ars_test = np.ravel(y_ars_test)\n",
        "#y_lik_test = np.ravel(y_lik_test)\n",
        "#y_dom_test = np.ravel(y_dom_test)"
      ],
      "execution_count": null,
      "outputs": []
    },
    {
      "cell_type": "code",
      "metadata": {
        "id": "OLqEvekT2-UA",
        "colab_type": "code",
        "colab": {}
      },
      "source": [
        "#Feature Scaling\n",
        "sc = StandardScaler()\n",
        "eeg_train = sc.fit_transform(eeg_train)\n",
        "eeg_test = sc.transform(eeg_test)"
      ],
      "execution_count": null,
      "outputs": []
    },
    {
      "cell_type": "code",
      "metadata": {
        "id": "hFWKxWei2gaJ",
        "colab_type": "code",
        "colab": {
          "base_uri": "https://localhost:8080/",
          "height": 134
        },
        "outputId": "e5f37af8-2a4a-4bd3-a7d7-2922265dfab1"
      },
      "source": [
        "Val_R = RandomForestRegressor(n_estimators=512, n_jobs=6)\n",
        "Val_R.fit(eeg_train, y_val_ratings_train)"
      ],
      "execution_count": null,
      "outputs": [
        {
          "output_type": "execute_result",
          "data": {
            "text/plain": [
              "RandomForestRegressor(bootstrap=True, ccp_alpha=0.0, criterion='mse',\n",
              "                      max_depth=None, max_features='auto', max_leaf_nodes=None,\n",
              "                      max_samples=None, min_impurity_decrease=0.0,\n",
              "                      min_impurity_split=None, min_samples_leaf=1,\n",
              "                      min_samples_split=2, min_weight_fraction_leaf=0.0,\n",
              "                      n_estimators=512, n_jobs=6, oob_score=False,\n",
              "                      random_state=None, verbose=0, warm_start=False)"
            ]
          },
          "metadata": {
            "tags": []
          },
          "execution_count": 72
        }
      ]
    },
    {
      "cell_type": "code",
      "metadata": {
        "id": "XnEH5DPT3E9p",
        "colab_type": "code",
        "colab": {
          "base_uri": "https://localhost:8080/",
          "height": 118
        },
        "outputId": "1bf7d6ae-a0d3-4447-b2ca-35d7b6636977"
      },
      "source": [
        "#Predict VALENCE with the RANDOM FOREST classifier\n",
        "y_predicted_valence_score_rf = Val_R.predict(eeg_test) #M is the X_test, L is the Y_test\n",
        "#print(predicted_valence_score_svr)\n",
        "#Compute Metrics of the SVR classifier for VALENCE\n",
        "#testing (eeg_test, y_val_ratings_test, svr_clf_val)\n",
        "print(\"----------METRICS FOR SUBJECT 1 FOR VALENCE SCORE WITH RANDOM FOREST-----------\")\n",
        "print(\"Explained variance score: \", explained_variance_score(y_val_ratings_test, y_predicted_valence_score_rf))\n",
        "print(\"Mean absolute error: \", mean_absolute_error(y_val_ratings_test, y_predicted_valence_score_rf))\n",
        "print(\"Mean squared error: \", mean_squared_error(y_val_ratings_test, y_predicted_valence_score_rf))\n",
        "print(\"Mean squared logarithmic error: \", mean_squared_log_error(y_ars_ratings_test, y_predicted_valence_score_rf))\n",
        "print(\"R2 score: \", r2_score(y_val_ratings_test, y_predicted_valence_score_rf))"
      ],
      "execution_count": null,
      "outputs": [
        {
          "output_type": "stream",
          "text": [
            "----------METRICS FOR SUBJECT 1 FOR VALENCE SCORE WITH RANDOM FOREST-----------\n",
            "Explained variance score:  0.8005633968072984\n",
            "Mean absolute error:  0.8931341268961721\n",
            "Mean squared error:  1.2570053375695975\n",
            "Mean squared logarithmic error:  0.2078235854902752\n",
            "R2 score:  0.8005607030527544\n"
          ],
          "name": "stdout"
        }
      ]
    },
    {
      "cell_type": "markdown",
      "metadata": {
        "id": "_gIgbHyMe1QV",
        "colab_type": "text"
      },
      "source": [
        "12.2.1 Random Forest **AROUSAL** Ratings [1-9]"
      ]
    },
    {
      "cell_type": "code",
      "metadata": {
        "id": "s1VjIv-F9Dpe",
        "colab_type": "code",
        "colab": {}
      },
      "source": [
        "eeg_train, eeg_test, y_ars_ratings_train, y_ars_ratings_test = train_test_split(datas_one, y_ars_one, test_size = 0.2, random_state = 42)"
      ],
      "execution_count": null,
      "outputs": []
    },
    {
      "cell_type": "code",
      "metadata": {
        "id": "gAB8t95C9NLc",
        "colab_type": "code",
        "colab": {}
      },
      "source": [
        "#Let's normalize the training and testing eeg and labels\n",
        "eeg_train = normalize(eeg_train)\n",
        "#y_val_ratings_train = np.ravel(y_val_ratings_train)\n",
        "y_ars_ratings_train = np.ravel(y_ars_ratings_train)\n",
        "#y_lik_train = np.ravel(y_lik_train)\n",
        "#y_dom_train = np.ravel(y_dom_train)\n",
        "#######\n",
        "eeg_test = normalize(eeg_test)\n",
        "#y_val_ratings_test = np.ravel(y_val_ratings_test)\n",
        "y_ars_ratings_test = np.ravel(y_ars_ratings_test)\n",
        "#y_lik_test = np.ravel(y_lik_test)\n",
        "#y_dom_test = np.ravel(y_dom_test)"
      ],
      "execution_count": null,
      "outputs": []
    },
    {
      "cell_type": "code",
      "metadata": {
        "id": "iiqRNsyP9cu_",
        "colab_type": "code",
        "colab": {}
      },
      "source": [
        "#Feature Scaling\n",
        "sc = StandardScaler()\n",
        "eeg_train = sc.fit_transform(eeg_train)\n",
        "eeg_test = sc.transform(eeg_test)"
      ],
      "execution_count": null,
      "outputs": []
    },
    {
      "cell_type": "code",
      "metadata": {
        "id": "ozRAy1699gu9",
        "colab_type": "code",
        "colab": {
          "base_uri": "https://localhost:8080/",
          "height": 134
        },
        "outputId": "daf1c1ec-cbf0-49d8-c474-18f60eb7b2dc"
      },
      "source": [
        "Ars_R = RandomForestRegressor(n_estimators=512, n_jobs=6)\n",
        "Ars_R.fit(eeg_train, y_ars_ratings_train)"
      ],
      "execution_count": null,
      "outputs": [
        {
          "output_type": "execute_result",
          "data": {
            "text/plain": [
              "RandomForestRegressor(bootstrap=True, ccp_alpha=0.0, criterion='mse',\n",
              "                      max_depth=None, max_features='auto', max_leaf_nodes=None,\n",
              "                      max_samples=None, min_impurity_decrease=0.0,\n",
              "                      min_impurity_split=None, min_samples_leaf=1,\n",
              "                      min_samples_split=2, min_weight_fraction_leaf=0.0,\n",
              "                      n_estimators=512, n_jobs=6, oob_score=False,\n",
              "                      random_state=None, verbose=0, warm_start=False)"
            ]
          },
          "metadata": {
            "tags": []
          },
          "execution_count": 77
        }
      ]
    },
    {
      "cell_type": "code",
      "metadata": {
        "id": "yapHYyyw7m5W",
        "colab_type": "code",
        "colab": {
          "base_uri": "https://localhost:8080/",
          "height": 118
        },
        "outputId": "5a954eb2-7b16-44de-c994-13dea4a528d7"
      },
      "source": [
        "#Predict AROUSAL with the RANDOM FOREST classifier\n",
        "y_predicted_arousal_score_rf = Ars_R.predict(eeg_test) #M is the X_test, L is the Y_test\n",
        "#print(predicted_valence_score_svr)\n",
        "#Compute Metrics of the SVR classifier for VALENCE\n",
        "#testing (eeg_test, y_val_ratings_test, svr_clf_val)\n",
        "print(\"----------METRICS FOR AROUSAL SCORE WITH RANDOM FOREST-----------\")\n",
        "print(\"Explained variance score: \", explained_variance_score(y_ars_ratings_test, y_predicted_arousal_score_rf))\n",
        "print(\"Mean absolute error: \", mean_absolute_error(y_ars_ratings_test, y_predicted_arousal_score_rf))\n",
        "print(\"Mean squared error: \", mean_squared_error(y_ars_ratings_test, y_predicted_arousal_score_rf))\n",
        "print(\"Mean squared logarithmic error: \", mean_squared_log_error(y_ars_ratings_test, y_predicted_arousal_score_rf))\n",
        "print(\"R2 score: \", r2_score(y_ars_ratings_test, y_predicted_arousal_score_rf))"
      ],
      "execution_count": null,
      "outputs": [
        {
          "output_type": "stream",
          "text": [
            "----------METRICS FOR AROUSAL SCORE WITH RANDOM FOREST-----------\n",
            "Explained variance score:  0.8103141125304344\n",
            "Mean absolute error:  0.7004649843216428\n",
            "Mean squared error:  0.892583758113848\n",
            "Mean squared logarithmic error:  0.031166730822049314\n",
            "R2 score:  0.8103013759316635\n"
          ],
          "name": "stdout"
        }
      ]
    },
    {
      "cell_type": "markdown",
      "metadata": {
        "id": "V_TGgKFFe5jX",
        "colab_type": "text"
      },
      "source": [
        "12.3 AdaBoost"
      ]
    },
    {
      "cell_type": "markdown",
      "metadata": {
        "id": "R3xQ3r1we8XP",
        "colab_type": "text"
      },
      "source": [
        "12.3.1 AdaBoost **VALENCE** Ratings [1-9]"
      ]
    },
    {
      "cell_type": "code",
      "metadata": {
        "id": "umbOMghw-gYz",
        "colab_type": "code",
        "colab": {}
      },
      "source": [
        "eeg_train, eeg_test, y_val_ratings_train, y_val_ratings_test = train_test_split(datas_one, y_val_one, test_size = 0.2, random_state = 42)"
      ],
      "execution_count": null,
      "outputs": []
    },
    {
      "cell_type": "code",
      "metadata": {
        "id": "AzhIZleQ-iss",
        "colab_type": "code",
        "colab": {}
      },
      "source": [
        "#Let's normalize the training and testing eeg and labels\n",
        "eeg_train = normalize(eeg_train)\n",
        "y_val_ratings_train = np.ravel(y_val_ratings_train)\n",
        "#y_ars_train = np.ravel(y_ars_train)\n",
        "#y_lik_train = np.ravel(y_lik_train)\n",
        "#y_dom_train = np.ravel(y_dom_train)\n",
        "#######\n",
        "eeg_test = normalize(eeg_test)\n",
        "y_val_ratings_test = np.ravel(y_val_ratings_test)\n",
        "#y_ars_test = np.ravel(y_ars_test)\n",
        "#y_lik_test = np.ravel(y_lik_test)\n",
        "#y_dom_test = np.ravel(y_dom_test)"
      ],
      "execution_count": null,
      "outputs": []
    },
    {
      "cell_type": "code",
      "metadata": {
        "id": "rXjKjp0V-wPf",
        "colab_type": "code",
        "colab": {}
      },
      "source": [
        "#Feature Scaling\n",
        "sc = StandardScaler()\n",
        "eeg_train = sc.fit_transform(eeg_train)\n",
        "eeg_test = sc.transform(eeg_test)"
      ],
      "execution_count": null,
      "outputs": []
    },
    {
      "cell_type": "code",
      "metadata": {
        "id": "pl4heiIS97yr",
        "colab_type": "code",
        "colab": {
          "base_uri": "https://localhost:8080/",
          "height": 50
        },
        "outputId": "bac35295-4fcd-42a3-c072-bacd97218944"
      },
      "source": [
        "AdaBoost_Val = AdaBoostRegressor(n_estimators=5000, learning_rate=0.01)\n",
        "AdaBoost_Val.fit(eeg_train, y_val_ratings_train)"
      ],
      "execution_count": null,
      "outputs": [
        {
          "output_type": "execute_result",
          "data": {
            "text/plain": [
              "AdaBoostRegressor(base_estimator=None, learning_rate=0.01, loss='linear',\n",
              "                  n_estimators=5000, random_state=None)"
            ]
          },
          "metadata": {
            "tags": []
          },
          "execution_count": 82
        }
      ]
    },
    {
      "cell_type": "code",
      "metadata": {
        "id": "_aX6vAq-_MNg",
        "colab_type": "code",
        "colab": {
          "base_uri": "https://localhost:8080/",
          "height": 118
        },
        "outputId": "d06a5634-0be8-4214-a3ef-bcafc160a53e"
      },
      "source": [
        "#Predict VALENCE with the RANDOM FOREST classifier\n",
        "y_predicted_valence_score_adaboost = AdaBoost_Val.predict(eeg_test) #M is the X_test, L is the Y_test\n",
        "#print(predicted_valence_score_svr)\n",
        "#Compute Metrics of the SVR classifier for VALENCE\n",
        "#testing (eeg_test, y_val_ratings_test, svr_clf_val)\n",
        "print(\"----------METRICS FOR VALENCE SCORE WITH ADABOOST-----------\")\n",
        "print(\"Explained variance score: \", explained_variance_score(y_val_ratings_test, y_predicted_valence_score_adaboost))\n",
        "print(\"Mean absolute error: \", mean_absolute_error(y_val_ratings_test, y_predicted_valence_score_adaboost))\n",
        "print(\"Mean squared error: \", mean_squared_error(y_val_ratings_test, y_predicted_valence_score_adaboost))\n",
        "print(\"Mean squared logarithmic error: \", mean_squared_log_error(y_ars_ratings_test, y_predicted_valence_score_adaboost))\n",
        "print(\"R2 score: \", r2_score(y_val_ratings_test, y_predicted_valence_score_adaboost))"
      ],
      "execution_count": null,
      "outputs": [
        {
          "output_type": "stream",
          "text": [
            "----------METRICS FOR VALENCE SCORE WITH ADABOOST-----------\n",
            "Explained variance score:  0.19700221783630822\n",
            "Mean absolute error:  2.092800053762886\n",
            "Mean squared error:  5.064815183882615\n",
            "Mean squared logarithmic error:  0.16419657729206608\n",
            "R2 score:  0.19640501973178381\n"
          ],
          "name": "stdout"
        }
      ]
    },
    {
      "cell_type": "markdown",
      "metadata": {
        "id": "T3TPzIvAfAIt",
        "colab_type": "text"
      },
      "source": [
        "12.3.2 AdaBoost **AROUSAL** Ratings [1-9]"
      ]
    },
    {
      "cell_type": "code",
      "metadata": {
        "id": "s28ldIx3-mJR",
        "colab_type": "code",
        "colab": {}
      },
      "source": [
        "eeg_train, eeg_test, y_ars_ratings_train, y_ars_ratings_test = train_test_split(datas_one, y_ars_one, test_size = 0.2, random_state = 42)"
      ],
      "execution_count": null,
      "outputs": []
    },
    {
      "cell_type": "code",
      "metadata": {
        "id": "tRCTWuDv-4XH",
        "colab_type": "code",
        "colab": {}
      },
      "source": [
        "#Let's normalize the training and testing eeg and labels\n",
        "eeg_train = normalize(eeg_train)\n",
        "#y_val_ratings_train = np.ravel(y_val_ratings_train)\n",
        "y_ars_ratings_train = np.ravel(y_ars_ratings_train)\n",
        "#y_lik_train = np.ravel(y_lik_train)\n",
        "#y_dom_train = np.ravel(y_dom_train)\n",
        "#######\n",
        "eeg_test = normalize(eeg_test)\n",
        "#y_val_ratings_test = np.ravel(y_val_ratings_test)\n",
        "y_ars_ratings_test = np.ravel(y_ars_ratings_test)\n",
        "#y_lik_test = np.ravel(y_lik_test)\n",
        "#y_dom_test = np.ravel(y_dom_test)"
      ],
      "execution_count": null,
      "outputs": []
    },
    {
      "cell_type": "code",
      "metadata": {
        "id": "JDHdh3RV-8lk",
        "colab_type": "code",
        "colab": {}
      },
      "source": [
        "#Feature Scaling\n",
        "sc = StandardScaler()\n",
        "eeg_train = sc.fit_transform(eeg_train)\n",
        "eeg_test = sc.transform(eeg_test)"
      ],
      "execution_count": null,
      "outputs": []
    },
    {
      "cell_type": "code",
      "metadata": {
        "id": "qYRf9NIp-Z_F",
        "colab_type": "code",
        "colab": {
          "base_uri": "https://localhost:8080/",
          "height": 50
        },
        "outputId": "aec5543c-3d22-4763-b92f-e4950598b5f1"
      },
      "source": [
        "AdaBoost_Ars = AdaBoostRegressor(n_estimators=5000, learning_rate=0.01)\n",
        "AdaBoost_Ars.fit(eeg_train, y_ars_ratings_train)"
      ],
      "execution_count": null,
      "outputs": [
        {
          "output_type": "execute_result",
          "data": {
            "text/plain": [
              "AdaBoostRegressor(base_estimator=None, learning_rate=0.01, loss='linear',\n",
              "                  n_estimators=5000, random_state=None)"
            ]
          },
          "metadata": {
            "tags": []
          },
          "execution_count": 87
        }
      ]
    },
    {
      "cell_type": "code",
      "metadata": {
        "id": "liRThzDn_5Kt",
        "colab_type": "code",
        "colab": {
          "base_uri": "https://localhost:8080/",
          "height": 118
        },
        "outputId": "b9dbad9f-f47c-4a7f-ca7a-77cb356aa414"
      },
      "source": [
        "#Predict AROUSAL with the RANDOM FOREST classifier\n",
        "y_predicted_arousal_score_adaboost = AdaBoost_Ars.predict(eeg_test) #M is the X_test, L is the Y_test\n",
        "#print(predicted_valence_score_svr)\n",
        "#Compute Metrics of the SVR classifier for VALENCE\n",
        "#testing (eeg_test, y_val_ratings_test, svr_clf_val)\n",
        "print(\"----------METRICS FOR AROUSAL SCORE WITH ADABOOST-----------\")\n",
        "print(\"Explained variance score: \", explained_variance_score(y_ars_ratings_test, y_predicted_arousal_score_adaboost))\n",
        "print(\"Mean absolute error: \", mean_absolute_error(y_ars_ratings_test, y_predicted_arousal_score_adaboost))\n",
        "print(\"Mean squared error: \", mean_squared_error(y_ars_ratings_test, y_predicted_arousal_score_adaboost))\n",
        "print(\"Mean squared logarithmic error: \", mean_squared_log_error(y_ars_ratings_test, y_predicted_arousal_score_adaboost))\n",
        "print(\"R2 score: \", r2_score(y_ars_ratings_test, y_predicted_arousal_score_adaboost))"
      ],
      "execution_count": null,
      "outputs": [
        {
          "output_type": "stream",
          "text": [
            "----------METRICS FOR AROUSAL SCORE WITH ADABOOST-----------\n",
            "Explained variance score:  0.21229272938134625\n",
            "Mean absolute error:  1.7310914707070477\n",
            "Mean squared error:  3.713717006529609\n",
            "Mean squared logarithmic error:  0.1139899169307968\n",
            "R2 score:  0.21073288650633093\n"
          ],
          "name": "stdout"
        }
      ]
    }
  ]
}